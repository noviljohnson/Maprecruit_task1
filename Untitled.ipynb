{
 "cells": [
  {
   "cell_type": "code",
   "execution_count": 1,
   "metadata": {},
   "outputs": [],
   "source": [
    "import requests\n",
    "from bs4 import BeautifulSoup as bs"
   ]
  },
  {
   "cell_type": "code",
   "execution_count": 2,
   "metadata": {},
   "outputs": [],
   "source": [
    "r = requests.get('https://www.onetonline.org/find/family?f=15&g=Go')\n",
    "webpage = bs(r.content)\n"
   ]
  },
  {
   "cell_type": "code",
   "execution_count": 3,
   "metadata": {},
   "outputs": [
    {
     "data": {
      "text/plain": [
       "39"
      ]
     },
     "execution_count": 3,
     "metadata": {},
     "output_type": "execute_result"
    }
   ],
   "source": [
    "job_links = []\n",
    "for i in webpage.find('table').find_all('tr'):\n",
    "    job_links.append(i.a['href'])\n",
    "len(job_links)"
   ]
  },
  {
   "cell_type": "code",
   "execution_count": 4,
   "metadata": {},
   "outputs": [],
   "source": [
    "job_links = job_links[1:]\n",
    "job_links = job_links[:9] + job_links[10:]\n",
    "job_links = job_links[:24] + job_links[25:]"
   ]
  },
  {
   "cell_type": "code",
   "execution_count": 5,
   "metadata": {},
   "outputs": [],
   "source": [
    "occupation = []\n",
    "for i in webpage.find('table').find_all('tr')[1:]:\n",
    "    occupation.append(i.a.text)\n",
    "occupation.remove('Computer Occupations, All Other')\n",
    "occupation.remove('Mathematical Science Occupations, All Other')"
   ]
  },
  {
   "cell_type": "code",
   "execution_count": 7,
   "metadata": {},
   "outputs": [
    {
     "data": {
      "text/plain": [
       "(36, 36)"
      ]
     },
     "execution_count": 7,
     "metadata": {},
     "output_type": "execute_result"
    }
   ],
   "source": [
    "len(occupation),len(job_links)"
   ]
  },
  {
   "cell_type": "code",
   "execution_count": 8,
   "metadata": {},
   "outputs": [
    {
     "data": {
      "text/plain": [
       "['Analytical or scientific software',\n",
       " ' IBM SPSS Statistics  ',\n",
       " ' Insightful S-PLUS',\n",
       " ' SAS  ',\n",
       " ' Statistical software  ']"
      ]
     },
     "execution_count": 8,
     "metadata": {},
     "output_type": "execute_result"
    }
   ],
   "source": [
    "skills_list = []\n",
    "for id_, link in enumerate(job_links):\n",
    "    ra = requests.get(link)\n",
    "    bsa = bs(ra.content)\n",
    "    skll = bsa.body.select('div.section_TechnologySkills') \n",
    "    if skll:\n",
    "        for i in skll[1].ul.find_all('li'):\n",
    "            x = []\n",
    "            x.append(i.b.text.lower()) # tech_skill\n",
    "            x.extend(i.text.lower().strip().split('(')[0].split('—')[-1].split(';'))  # all ex\n",
    "            skills_list.append(x)\n",
    "skills_list[0]"
   ]
  },
  {
   "cell_type": "code",
   "execution_count": 9,
   "metadata": {},
   "outputs": [
    {
     "data": {
      "text/plain": [
       "1288"
      ]
     },
     "execution_count": 9,
     "metadata": {},
     "output_type": "execute_result"
    }
   ],
   "source": [
    "len(skills_list)"
   ]
  },
  {
   "cell_type": "code",
   "execution_count": 11,
   "metadata": {},
   "outputs": [
    {
     "data": {
      "text/plain": [
       "[['analytical or scientific software',\n",
       "  'ibm spss statistics',\n",
       "  'insightful s-plus',\n",
       "  'sas',\n",
       "  'statistical software'],\n",
       " ['business intelligence and data analysis software', 'qlik tech qlikview'],\n",
       " ['compliance software', 'compliance testing software'],\n",
       " ['data base user interface and query software',\n",
       "  'data entry software',\n",
       "  'microsoft sql server',\n",
       "  'oracle software',\n",
       "  'structured query language sql'],\n",
       " ['development environment software',\n",
       "  'microsoft visual basic',\n",
       "  'microsoft visual basic for applications vba'],\n",
       " ['electronic mail software', 'ibm lotus notes']]"
      ]
     },
     "execution_count": 11,
     "metadata": {},
     "output_type": "execute_result"
    }
   ],
   "source": [
    "slist = skills_list[:]\n",
    "for i,l in enumerate(skills_list):\n",
    "    for j,val in enumerate(l):\n",
    "        slist[i][j] = val.strip().lower()\n",
    "slist[:6]"
   ]
  },
  {
   "cell_type": "code",
   "execution_count": 12,
   "metadata": {},
   "outputs": [
    {
     "name": "stderr",
     "output_type": "stream",
     "text": [
      "C:\\ProgramData\\Anaconda3\\lib\\site-packages\\gensim\\similarities\\__init__.py:15: UserWarning: The gensim.similarities.levenshtein submodule is disabled, because the optional Levenshtein package <https://pypi.org/project/python-Levenshtein/> is unavailable. Install Levenhstein (e.g. `pip install python-Levenshtein`) to suppress this warning.\n",
      "  warnings.warn(msg)\n"
     ]
    }
   ],
   "source": [
    "import gensim\n",
    "import pandas as pd"
   ]
  },
  {
   "cell_type": "code",
   "execution_count": 13,
   "metadata": {},
   "outputs": [],
   "source": [
    "model = gensim.models.Word2Vec(window = 5,\n",
    "                              min_count = 2,\n",
    "                              workers = 2)"
   ]
  },
  {
   "cell_type": "code",
   "execution_count": 14,
   "metadata": {},
   "outputs": [],
   "source": [
    "model.build_vocab(slist, progress_per = 1000)"
   ]
  },
  {
   "cell_type": "code",
   "execution_count": 15,
   "metadata": {},
   "outputs": [
    {
     "data": {
      "text/plain": [
       "(14732, 20920)"
      ]
     },
     "execution_count": 15,
     "metadata": {},
     "output_type": "execute_result"
    }
   ],
   "source": [
    "model.train(slist, total_examples = model.corpus_count, epochs = model.epochs)"
   ]
  },
  {
   "cell_type": "code",
   "execution_count": 17,
   "metadata": {
    "collapsed": true
   },
   "outputs": [
    {
     "data": {
      "text/plain": [
       "[('document management software', 0.34271225333213806),\n",
       " ('symantec', 0.29952573776245117),\n",
       " ('oracle weblogic server', 0.2972383201122284),\n",
       " ('apache kafka', 0.2862420678138733),\n",
       " ('google adwords', 0.28128746151924133),\n",
       " ('microsoft visual foxpro', 0.2719064950942993),\n",
       " ('mongodb', 0.27187666296958923),\n",
       " ('autodesk revit', 0.26455554366111755),\n",
       " ('email software', 0.24986796081066132),\n",
       " ('vmware', 0.2463657706975937)]"
      ]
     },
     "execution_count": 17,
     "metadata": {},
     "output_type": "execute_result"
    }
   ],
   "source": [
    "model.wv.most_similar('microsoft sql server')"
   ]
  },
  {
   "cell_type": "code",
   "execution_count": 18,
   "metadata": {
    "collapsed": true
   },
   "outputs": [
    {
     "data": {
      "text/plain": [
       "[['analytical or scientific software',\n",
       "  'ibm spss statistics',\n",
       "  'insightful s-plus',\n",
       "  'sas',\n",
       "  'statistical software'],\n",
       " ['business intelligence and data analysis software', 'qlik tech qlikview'],\n",
       " ['compliance software', 'compliance testing software'],\n",
       " ['data base user interface and query software',\n",
       "  'data entry software',\n",
       "  'microsoft sql server',\n",
       "  'oracle software',\n",
       "  'structured query language sql'],\n",
       " ['development environment software',\n",
       "  'microsoft visual basic',\n",
       "  'microsoft visual basic for applications vba'],\n",
       " ['electronic mail software', 'ibm lotus notes']]"
      ]
     },
     "execution_count": 18,
     "metadata": {},
     "output_type": "execute_result"
    }
   ],
   "source": [
    "skills_list[:6]"
   ]
  },
  {
   "cell_type": "code",
   "execution_count": 19,
   "metadata": {},
   "outputs": [],
   "source": [
    "jlist = slist.copy()"
   ]
  },
  {
   "cell_type": "code",
   "execution_count": 20,
   "metadata": {
    "collapsed": true
   },
   "outputs": [
    {
     "data": {
      "text/plain": [
       "[['analytical or scientific software',\n",
       "  'ibm spss statistics',\n",
       "  'insightful s-plus',\n",
       "  'sas',\n",
       "  'statistical software'],\n",
       " ['business intelligence and data analysis software', 'qlik tech qlikview'],\n",
       " ['compliance software', 'compliance testing software'],\n",
       " ['data base user interface and query software',\n",
       "  'data entry software',\n",
       "  'microsoft sql server',\n",
       "  'oracle software',\n",
       "  'structured query language sql']]"
      ]
     },
     "execution_count": 20,
     "metadata": {},
     "output_type": "execute_result"
    }
   ],
   "source": [
    "jlist[:4]"
   ]
  },
  {
   "cell_type": "code",
   "execution_count": 30,
   "metadata": {},
   "outputs": [
    {
     "data": {
      "text/plain": [
       "['Bioinformatics Technicians', 'Graphics or photo imaging software']"
      ]
     },
     "execution_count": 30,
     "metadata": {},
     "output_type": "execute_result"
    }
   ],
   "source": [
    "c = 0\n",
    "jslist = []\n",
    "j_s = []\n",
    "for id_, link in enumerate(job_links):\n",
    "    ra = requests.get(link)\n",
    "    bsa = bs(ra.content)\n",
    "    skll = bsa.body.select('div.section_TechnologySkills') \n",
    "    if skll:\n",
    "        x = []\n",
    "        for i in skll[1].ul.find_all('li'):\n",
    "            x.append(i.b.text)\n",
    "            jslist.append([occupation[id_], i.b.text])\n",
    "            jlist[c].append(occupation[id_])\n",
    "            c += 1\n",
    "        x.append(occupation[id_])\n",
    "        j_s.append(x)\n",
    "#jlist[:2]\n",
    "jslist[5]"
   ]
  },
  {
   "cell_type": "code",
   "execution_count": 37,
   "metadata": {},
   "outputs": [
    {
     "data": {
      "text/plain": [
       "[['Analytical or scientific software',\n",
       "  'Application server software',\n",
       "  'Business intelligence and data analysis software',\n",
       "  'Clustering software',\n",
       "  'Communications server software',\n",
       "  'Compiler and decompiler software',\n",
       "  'Computer aided design CAD software',\n",
       "  'Configuration management software',\n",
       "  'Data base management system software',\n",
       "  'Data base user interface and query software',\n",
       "  'Data mining software',\n",
       "  'Development environment software',\n",
       "  'Enterprise application integration software',\n",
       "  'Enterprise resource planning ERP software',\n",
       "  'Enterprise system management software',\n",
       "  'File versioning software',\n",
       "  'Graphical user interface development software',\n",
       "  'Graphics or photo imaging software',\n",
       "  'Map creation software',\n",
       "  'Metadata management software',\n",
       "  'Object or component oriented development software',\n",
       "  'Object oriented data base management software',\n",
       "  'Office suite software',\n",
       "  'Operating system software',\n",
       "  'Portal server software',\n",
       "  'Presentation software',\n",
       "  'Project management software',\n",
       "  'Requirements analysis and system architecture software',\n",
       "  'Sales and marketing software',\n",
       "  'Spreadsheet software',\n",
       "  'Video creation and editing software',\n",
       "  'Web page creation and editing software',\n",
       "  'Web platform development software',\n",
       "  'Computer and Information Research Scientists'],\n",
       " ['Access software',\n",
       "  'Administration software',\n",
       "  'Analytical or scientific software',\n",
       "  'Application server software',\n",
       "  'Authentication server software',\n",
       "  'Backup or archival software',\n",
       "  'Bridge software',\n",
       "  'Business intelligence and data analysis software',\n",
       "  'Communications server software',\n",
       "  'Computer aided design CAD software',\n",
       "  'Computer based training software',\n",
       "  'Configuration management software',\n",
       "  'Content workflow software',\n",
       "  'Data base management system software',\n",
       "  'Data base reporting software',\n",
       "  'Data base user interface and query software',\n",
       "  'Desktop communications software',\n",
       "  'Development environment software',\n",
       "  'Electronic mail software',\n",
       "  'Enterprise application integration software',\n",
       "  'Enterprise resource planning ERP software',\n",
       "  'Enterprise system management software',\n",
       "  'Expert system software',\n",
       "  'File versioning software',\n",
       "  'Financial analysis software',\n",
       "  'Graphics or photo imaging software',\n",
       "  'Helpdesk or call center software',\n",
       "  'Human resources software',\n",
       "  'Industrial control software',\n",
       "  'Instant messaging software',\n",
       "  'Internet browser software',\n",
       "  'Internet directory services software',\n",
       "  'Internet protocol IP multimedia subsystem software',\n",
       "  'LAN software',\n",
       "  'Map creation software',\n",
       "  'Metadata management software',\n",
       "  'Network monitoring software',\n",
       "  'Network operating system enhancement software',\n",
       "  'Network security and virtual private network VPN equipment software',\n",
       "  'Network security or virtual private network VPN management software',\n",
       "  'Object or component oriented development software',\n",
       "  'Object oriented data base management software',\n",
       "  'Office suite software',\n",
       "  'Operating system software',\n",
       "  'Optical network management software',\n",
       "  'Pattern design software',\n",
       "  'Platform interconnectivity software',\n",
       "  'Portal server software',\n",
       "  'Presentation software',\n",
       "  'Program testing software',\n",
       "  'Project management software',\n",
       "  'Requirements analysis and system architecture software',\n",
       "  'Spreadsheet software',\n",
       "  'Storage networking software',\n",
       "  'Switch or router software',\n",
       "  'Time accounting software',\n",
       "  'Transaction security and virus protection software',\n",
       "  'Transaction server software',\n",
       "  'Video conferencing software',\n",
       "  'Video creation and editing software',\n",
       "  'WAN switching software and firmware',\n",
       "  'Web platform development software',\n",
       "  'Word processing software',\n",
       "  'Computer Network Architects'],\n",
       " ['Access software',\n",
       "  'Administration software',\n",
       "  'Backup or archival software',\n",
       "  'Communications server software',\n",
       "  'Computer aided design CAD software',\n",
       "  'Configuration management software',\n",
       "  'Customer relationship management CRM software',\n",
       "  'Data base management system software',\n",
       "  'Data base user interface and query software',\n",
       "  'Desktop communications software',\n",
       "  'Development environment software',\n",
       "  'Document management software',\n",
       "  'Electronic mail software',\n",
       "  'Enterprise application integration software',\n",
       "  'Enterprise resource planning ERP software',\n",
       "  'Enterprise system management software',\n",
       "  'Filesystem software',\n",
       "  'Graphics or photo imaging software',\n",
       "  'Helpdesk or call center software',\n",
       "  'Internet directory services software',\n",
       "  'Internet protocol IP multimedia subsystem software',\n",
       "  'Network monitoring software',\n",
       "  'Network operating system enhancement software',\n",
       "  'Network security and virtual private network VPN equipment software',\n",
       "  'Network security or virtual private network VPN management software',\n",
       "  'Object or component oriented development software',\n",
       "  'Office suite software',\n",
       "  'Operating system software',\n",
       "  'Platform interconnectivity software',\n",
       "  'Presentation software',\n",
       "  'Program testing software',\n",
       "  'Project management software',\n",
       "  'Spreadsheet software',\n",
       "  'Storage networking software',\n",
       "  'Transaction security and virus protection software',\n",
       "  'Transaction server software',\n",
       "  'Web platform development software',\n",
       "  'Word processing software',\n",
       "  'Computer Network Support Specialists'],\n",
       " ['Access software',\n",
       "  'Accounting software',\n",
       "  'Analytical or scientific software',\n",
       "  'Application server software',\n",
       "  'Backup or archival software',\n",
       "  'Business intelligence and data analysis software',\n",
       "  'Communications server software',\n",
       "  'Compiler and decompiler software',\n",
       "  'Computer aided design CAD software',\n",
       "  'Configuration management software',\n",
       "  'Content workflow software',\n",
       "  'Data base management system software',\n",
       "  'Data base reporting software',\n",
       "  'Data base user interface and query software',\n",
       "  'Data mining software',\n",
       "  'Desktop publishing software',\n",
       "  'Development environment software',\n",
       "  'Document management software',\n",
       "  'Electronic mail software',\n",
       "  'Enterprise application integration software',\n",
       "  'Enterprise resource planning ERP software',\n",
       "  'Enterprise system management software',\n",
       "  'Expert system software',\n",
       "  'File versioning software',\n",
       "  'Financial analysis software',\n",
       "  'Graphical user interface development software',\n",
       "  'Graphics or photo imaging software',\n",
       "  'Human resources software',\n",
       "  'Industrial control software',\n",
       "  'Map creation software',\n",
       "  'Medical software',\n",
       "  'Metadata management software',\n",
       "  'Network monitoring software',\n",
       "  'Network security and virtual private network VPN equipment software',\n",
       "  'Object or component oriented development software',\n",
       "  'Object oriented data base management software',\n",
       "  'Office suite software',\n",
       "  'Operating system software',\n",
       "  'Platform interconnectivity software',\n",
       "  'Portal server software',\n",
       "  'Presentation software',\n",
       "  'Program testing software',\n",
       "  'Project management software',\n",
       "  'Requirements analysis and system architecture software',\n",
       "  'Spreadsheet software',\n",
       "  'Storage networking software',\n",
       "  'Transaction security and virus protection software',\n",
       "  'Transaction server software',\n",
       "  'Web page creation and editing software',\n",
       "  'Web platform development software',\n",
       "  'Word processing software',\n",
       "  'Computer Programmers'],\n",
       " ['Access software',\n",
       "  'Accounting software',\n",
       "  'Administration software',\n",
       "  'Analytical or scientific software',\n",
       "  'Application server software',\n",
       "  'Backup or archival software',\n",
       "  'Business intelligence and data analysis software',\n",
       "  'Communications server software',\n",
       "  'Compiler and decompiler software',\n",
       "  'Computer aided design CAD software',\n",
       "  'Configuration management software',\n",
       "  'Content workflow software',\n",
       "  'Customer relationship management CRM software',\n",
       "  'Data base management system software',\n",
       "  'Data base reporting software',\n",
       "  'Data base user interface and query software',\n",
       "  'Data conversion software',\n",
       "  'Data mining software',\n",
       "  'Desktop communications software',\n",
       "  'Desktop publishing software',\n",
       "  'Development environment software',\n",
       "  'Document management software',\n",
       "  'Electronic mail software',\n",
       "  'Enterprise application integration software',\n",
       "  'Enterprise resource planning ERP software',\n",
       "  'Enterprise system management software',\n",
       "  'Expert system software',\n",
       "  'File versioning software',\n",
       "  'Financial analysis software',\n",
       "  'Graphical user interface development software',\n",
       "  'Graphics or photo imaging software',\n",
       "  'Helpdesk or call center software',\n",
       "  'Human resources software',\n",
       "  'Industrial control software',\n",
       "  'Information retrieval or search software',\n",
       "  'Instant messaging software',\n",
       "  'Internet directory services software',\n",
       "  'Internet protocol IP multimedia subsystem software',\n",
       "  'Map creation software',\n",
       "  'Medical software',\n",
       "  'Metadata management software',\n",
       "  'Network conferencing software',\n",
       "  'Network monitoring software',\n",
       "  'Network security or virtual private network VPN management software',\n",
       "  'Object or component oriented development software',\n",
       "  'Object oriented data base management software',\n",
       "  'Office suite software',\n",
       "  'Operating system software',\n",
       "  'Pattern design software',\n",
       "  'Platform interconnectivity software',\n",
       "  'Portal server software',\n",
       "  'Presentation software',\n",
       "  'Program testing software',\n",
       "  'Project management software',\n",
       "  'Requirements analysis and system architecture software',\n",
       "  'Sales and marketing software',\n",
       "  'Spreadsheet software',\n",
       "  'Storage networking software',\n",
       "  'Transaction security and virus protection software',\n",
       "  'Transaction server software',\n",
       "  'Video conferencing software',\n",
       "  'Video creation and editing software',\n",
       "  'Web page creation and editing software',\n",
       "  'Web platform development software',\n",
       "  'Word processing software',\n",
       "  'Computer Systems Analysts'],\n",
       " ['Access software',\n",
       "  'Analytical or scientific software',\n",
       "  'Application server software',\n",
       "  'Backup or archival software',\n",
       "  'Business intelligence and data analysis software',\n",
       "  'Communications server software',\n",
       "  'Computer aided design CAD software',\n",
       "  'Computer based training software',\n",
       "  'Configuration management software',\n",
       "  'Content workflow software',\n",
       "  'Customer relationship management CRM software',\n",
       "  'Data base management system software',\n",
       "  'Data base reporting software',\n",
       "  'Data base user interface and query software',\n",
       "  'Data mining software',\n",
       "  'Desktop communications software',\n",
       "  'Desktop publishing software',\n",
       "  'Development environment software',\n",
       "  'Document management software',\n",
       "  'Electronic mail software',\n",
       "  'Enterprise application integration software',\n",
       "  'Enterprise resource planning ERP software',\n",
       "  'Enterprise system management software',\n",
       "  'Expert system software',\n",
       "  'File versioning software',\n",
       "  'Financial analysis software',\n",
       "  'Graphical user interface development software',\n",
       "  'Graphics or photo imaging software',\n",
       "  'Human resources software',\n",
       "  'Industrial control software',\n",
       "  'Information retrieval or search software',\n",
       "  'Instant messaging software',\n",
       "  'Internet browser software',\n",
       "  'Internet directory services software',\n",
       "  'Internet protocol IP multimedia subsystem software',\n",
       "  'LAN software',\n",
       "  'Map creation software',\n",
       "  'Medical software',\n",
       "  'Metadata management software',\n",
       "  'Network conferencing software',\n",
       "  'Network monitoring software',\n",
       "  'Network security and virtual private network VPN equipment software',\n",
       "  'Network security or virtual private network VPN management software',\n",
       "  'Object or component oriented development software',\n",
       "  'Object oriented data base management software',\n",
       "  'Office suite software',\n",
       "  'Operating system software',\n",
       "  'Platform interconnectivity software',\n",
       "  'Portal server software',\n",
       "  'Presentation software',\n",
       "  'Program testing software',\n",
       "  'Project management software',\n",
       "  'Requirements analysis and system architecture software',\n",
       "  'Sales and marketing software',\n",
       "  'Spreadsheet software',\n",
       "  'Storage networking software',\n",
       "  'Transaction security and virus protection software',\n",
       "  'Transaction server software',\n",
       "  'Video conferencing software',\n",
       "  'Video creation and editing software',\n",
       "  'WAN switching software and firmware',\n",
       "  'Web page creation and editing software',\n",
       "  'Web platform development software',\n",
       "  'Word processing software',\n",
       "  'Computer Systems Engineers/Architects'],\n",
       " ['Access software',\n",
       "  'Accounting software',\n",
       "  'Administration software',\n",
       "  'Analytical or scientific software',\n",
       "  'Application server software',\n",
       "  'Authentication server software',\n",
       "  'Backup or archival software',\n",
       "  'Business intelligence and data analysis software',\n",
       "  'Calendar and scheduling software',\n",
       "  'Communications server software',\n",
       "  'Computer aided design CAD software',\n",
       "  'Computer based training software',\n",
       "  'Configuration management software',\n",
       "  'Content workflow software',\n",
       "  'Customer relationship management CRM software',\n",
       "  'Data base management system software',\n",
       "  'Data base reporting software',\n",
       "  'Data base user interface and query software',\n",
       "  'Desktop communications software',\n",
       "  'Desktop publishing software',\n",
       "  'Development environment software',\n",
       "  'Document management software',\n",
       "  'Electronic mail software',\n",
       "  'Enterprise application integration software',\n",
       "  'Enterprise resource planning ERP software',\n",
       "  'Enterprise system management software',\n",
       "  'Expert system software',\n",
       "  'File versioning software',\n",
       "  'Filesystem software',\n",
       "  'Financial analysis software',\n",
       "  'Graphical user interface development software',\n",
       "  'Graphics or photo imaging software',\n",
       "  'Helpdesk or call center software',\n",
       "  'Human resources software',\n",
       "  'Industrial control software',\n",
       "  'Information retrieval or search software',\n",
       "  'Instant messaging software',\n",
       "  'Internet browser software',\n",
       "  'Internet directory services software',\n",
       "  'Internet protocol IP multimedia subsystem software',\n",
       "  'License management software',\n",
       "  'Map creation software',\n",
       "  'Medical software',\n",
       "  'Metadata management software',\n",
       "  'Multi-media educational software',\n",
       "  'Network conferencing software',\n",
       "  'Network monitoring software',\n",
       "  'Network operation system software',\n",
       "  'Network security or virtual private network VPN management software',\n",
       "  'Object or component oriented development software',\n",
       "  'Object oriented data base management software',\n",
       "  'Office suite software',\n",
       "  'Operating system software',\n",
       "  'Platform interconnectivity software',\n",
       "  'Portal server software',\n",
       "  'Presentation software',\n",
       "  'Program testing software',\n",
       "  'Project management software',\n",
       "  'Requirements analysis and system architecture software',\n",
       "  'Sales and marketing software',\n",
       "  'Spreadsheet software',\n",
       "  'Storage networking software',\n",
       "  'Transaction security and virus protection software',\n",
       "  'Transaction server software',\n",
       "  'Video conferencing software',\n",
       "  'Video creation and editing software',\n",
       "  'Web page creation and editing software',\n",
       "  'Web platform development software',\n",
       "  'Word processing software',\n",
       "  'Computer User Support Specialists'],\n",
       " ['Analytical or scientific software',\n",
       "  'Application server software',\n",
       "  'Backup or archival software',\n",
       "  'Business intelligence and data analysis software',\n",
       "  'Clustering software',\n",
       "  'Communications server software',\n",
       "  'Configuration management software',\n",
       "  'Content workflow software',\n",
       "  'Customer relationship management CRM software',\n",
       "  'Data base management system software',\n",
       "  'Data base reporting software',\n",
       "  'Data base user interface and query software',\n",
       "  'Data mining software',\n",
       "  'Desktop publishing software',\n",
       "  'Development environment software',\n",
       "  'Document management software',\n",
       "  'Electronic mail software',\n",
       "  'Enterprise application integration software',\n",
       "  'Enterprise resource planning ERP software',\n",
       "  'Enterprise system management software',\n",
       "  'File versioning software',\n",
       "  'Financial analysis software',\n",
       "  'Graphics or photo imaging software',\n",
       "  'Human resources software',\n",
       "  'Information retrieval or search software',\n",
       "  'Map creation software',\n",
       "  'Metadata management software',\n",
       "  'Network monitoring software',\n",
       "  'Object or component oriented development software',\n",
       "  'Object oriented data base management software',\n",
       "  'Office suite software',\n",
       "  'Operating system software',\n",
       "  'Portal server software',\n",
       "  'Presentation software',\n",
       "  'Project management software',\n",
       "  'Requirements analysis and system architecture software',\n",
       "  'Spreadsheet software',\n",
       "  'Storage networking software',\n",
       "  'Transaction security and virus protection software',\n",
       "  'Transaction server software',\n",
       "  'Web platform development software',\n",
       "  'Word processing software',\n",
       "  'Data Warehousing Specialists'],\n",
       " ['Access software',\n",
       "  'Accounting software',\n",
       "  'Administration software',\n",
       "  'Analytical or scientific software',\n",
       "  'Application server software',\n",
       "  'Backup or archival software',\n",
       "  'Business intelligence and data analysis software',\n",
       "  'Clustering software',\n",
       "  'Communications server software',\n",
       "  'Computer aided design CAD software',\n",
       "  'Computer based training software',\n",
       "  'Configuration management software',\n",
       "  'Content workflow software',\n",
       "  'Customer relationship management CRM software',\n",
       "  'Data base management system software',\n",
       "  'Data base reporting software',\n",
       "  'Data base user interface and query software',\n",
       "  'Data mining software',\n",
       "  'Desktop communications software',\n",
       "  'Desktop publishing software',\n",
       "  'Development environment software',\n",
       "  'Electronic mail software',\n",
       "  'Enterprise application integration software',\n",
       "  'Enterprise resource planning ERP software',\n",
       "  'Enterprise system management software',\n",
       "  'Expert system software',\n",
       "  'File versioning software',\n",
       "  'Financial analysis software',\n",
       "  'Graphical user interface development software',\n",
       "  'Graphics or photo imaging software',\n",
       "  'Human resources software',\n",
       "  'Industrial control software',\n",
       "  'Information retrieval or search software',\n",
       "  'Manufacturing execution system MES software',\n",
       "  'Map creation software',\n",
       "  'Medical software',\n",
       "  'Metadata management software',\n",
       "  'Multi-media educational software',\n",
       "  'Network conferencing software',\n",
       "  'Network monitoring software',\n",
       "  'Network security and virtual private network VPN equipment software',\n",
       "  'Network security or virtual private network VPN management software',\n",
       "  'Object or component oriented development software',\n",
       "  'Object oriented data base management software',\n",
       "  'Office suite software',\n",
       "  'Operating system software',\n",
       "  'Platform interconnectivity software',\n",
       "  'Portal server software',\n",
       "  'Presentation software',\n",
       "  'Program testing software',\n",
       "  'Project management software',\n",
       "  'Requirements analysis and system architecture software',\n",
       "  'Sales and marketing software',\n",
       "  'Spreadsheet software',\n",
       "  'Storage networking software',\n",
       "  'Transaction security and virus protection software',\n",
       "  'Transaction server software',\n",
       "  'Video conferencing software',\n",
       "  'Web page creation and editing software',\n",
       "  'Web platform development software',\n",
       "  'Word processing software',\n",
       "  'Database Administrators'],\n",
       " ['Access software',\n",
       "  'Administration software',\n",
       "  'Analytical or scientific software',\n",
       "  'Application server software',\n",
       "  'Backup or archival software',\n",
       "  'Business intelligence and data analysis software',\n",
       "  'Clustering software',\n",
       "  'Communications server software',\n",
       "  'Computer aided design CAD software',\n",
       "  'Configuration management software',\n",
       "  'Content workflow software',\n",
       "  'Customer relationship management CRM software',\n",
       "  'Data base management system software',\n",
       "  'Data base reporting software',\n",
       "  'Data base user interface and query software',\n",
       "  'Data mining software',\n",
       "  'Desktop communications software',\n",
       "  'Desktop publishing software',\n",
       "  'Development environment software',\n",
       "  'Document management software',\n",
       "  'Electronic mail software',\n",
       "  'Enterprise application integration software',\n",
       "  'Enterprise resource planning ERP software',\n",
       "  'Enterprise system management software',\n",
       "  'Expert system software',\n",
       "  'File versioning software',\n",
       "  'Graphics or photo imaging software',\n",
       "  'Information retrieval or search software',\n",
       "  'Manufacturing execution system MES software',\n",
       "  'Map creation software',\n",
       "  'Medical software',\n",
       "  'Metadata management software',\n",
       "  'Multi-media educational software',\n",
       "  'Network conferencing software',\n",
       "  'Network monitoring software',\n",
       "  'Network security and virtual private network VPN equipment software',\n",
       "  'Network security or virtual private network VPN management software',\n",
       "  'Object or component oriented development software',\n",
       "  'Object oriented data base management software',\n",
       "  'Office suite software',\n",
       "  'Operating system software',\n",
       "  'Platform interconnectivity software',\n",
       "  'Portal server software',\n",
       "  'Presentation software',\n",
       "  'Program testing software',\n",
       "  'Project management software',\n",
       "  'Requirements analysis and system architecture software',\n",
       "  'Spreadsheet software',\n",
       "  'Storage media loading software',\n",
       "  'Storage networking software',\n",
       "  'Transaction security and virus protection software',\n",
       "  'Transaction server software',\n",
       "  'Video conferencing software',\n",
       "  'Web page creation and editing software',\n",
       "  'Web platform development software',\n",
       "  'Word processing software',\n",
       "  'Database Architects']]"
      ]
     },
     "execution_count": 37,
     "metadata": {},
     "output_type": "execute_result"
    }
   ],
   "source": []
  },
  {
   "cell_type": "code",
   "execution_count": 32,
   "metadata": {},
   "outputs": [],
   "source": [
    "model2 = gensim.models.Word2Vec(window = 2,\n",
    "                              min_count = 2,\n",
    "                              workers = 2)"
   ]
  },
  {
   "cell_type": "code",
   "execution_count": 34,
   "metadata": {},
   "outputs": [],
   "source": [
    "model2.build_vocab(j_s, progress_per = 1000)"
   ]
  },
  {
   "cell_type": "code",
   "execution_count": 35,
   "metadata": {},
   "outputs": [
    {
     "data": {
      "text/plain": [
       "(2170, 6595)"
      ]
     },
     "execution_count": 35,
     "metadata": {},
     "output_type": "execute_result"
    }
   ],
   "source": [
    "model2.train(j_s, total_examples = model2.corpus_count, epochs = model2.epochs)"
   ]
  },
  {
   "cell_type": "code",
   "execution_count": 41,
   "metadata": {},
   "outputs": [
    {
     "data": {
      "text/plain": [
       "[('Object oriented data base management software', 0.36216893792152405),\n",
       " ('Content workflow software', 0.27385732531547546),\n",
       " ('Multi-media educational software', 0.27384889125823975),\n",
       " ('Network security and virtual private network VPN equipment software',\n",
       "  0.25141042470932007),\n",
       " ('Internet browser software', 0.2507089674472809),\n",
       " ('Business intelligence and data analysis software', 0.23327289521694183),\n",
       " ('Filesystem software', 0.22701385617256165),\n",
       " ('Project management software', 0.20651961863040924),\n",
       " ('Authentication server software', 0.19107307493686676),\n",
       " ('License management software', 0.1819252222776413)]"
      ]
     },
     "execution_count": 41,
     "metadata": {},
     "output_type": "execute_result"
    }
   ],
   "source": [
    "model2.wv.most_similar('Word processing software')"
   ]
  },
  {
   "cell_type": "code",
   "execution_count": 31,
   "metadata": {},
   "outputs": [
    {
     "data": {
      "text/plain": [
       "(5301, 12880)"
      ]
     },
     "execution_count": 31,
     "metadata": {},
     "output_type": "execute_result"
    }
   ],
   "source": [
    "model3 = gensim.models.Word2Vec(window = 2,\n",
    "                              min_count = 2,\n",
    "                              workers = 2)\n",
    "model3.build_vocab(jslist, progress_per = 1000)\n",
    "model3.train(jslist, total_examples = model.corpus_count, vb   epochs = model.epochs)"
   ]
  },
  {
   "cell_type": "code",
   "execution_count": 38,
   "metadata": {},
   "outputs": [
    {
     "data": {
      "text/plain": [
       "[('Financial analysis software', 0.3253753185272217),\n",
       " ('Customer relationship management CRM software', 0.32019147276878357),\n",
       " ('Computer Systems Engineers/Architects', 0.20826396346092224),\n",
       " ('Network and Computer Systems Administrators', 0.204121395945549),\n",
       " ('Word processing software', 0.2006068378686905),\n",
       " ('Computer based training software', 0.19628116488456726),\n",
       " ('Storage networking software', 0.1955416351556778),\n",
       " ('Document management software', 0.1792164444923401),\n",
       " ('Administration software', 0.17511200904846191),\n",
       " ('Project management software', 0.17206361889839172)]"
      ]
     },
     "execution_count": 38,
     "metadata": {},
     "output_type": "execute_result"
    }
   ],
   "source": [
    "model3.wv.most_similar('Computer Programmers')"
   ]
  },
  {
   "cell_type": "code",
   "execution_count": 36,
   "metadata": {},
   "outputs": [
    {
     "data": {
      "text/plain": [
       "['Actuaries',\n",
       " 'Bioinformatics Technicians',\n",
       " 'Biostatisticians',\n",
       " 'Blockchain Engineers',\n",
       " 'Business Intelligence Analysts',\n",
       " 'Clinical Data Managers',\n",
       " 'Computer and Information Research Scientists',\n",
       " 'Computer Network Architects',\n",
       " 'Computer Network Support Specialists',\n",
       " 'Computer Programmers',\n",
       " 'Computer Systems Analysts',\n",
       " 'Computer Systems Engineers/Architects',\n",
       " 'Computer User Support Specialists',\n",
       " 'Data Scientists',\n",
       " 'Data Warehousing Specialists',\n",
       " 'Database Administrators',\n",
       " 'Database Architects',\n",
       " 'Digital Forensics Analysts',\n",
       " 'Document Management Specialists',\n",
       " 'Geographic Information Systems Technologists and Technicians',\n",
       " 'Health Informatics Specialists',\n",
       " 'Information Security Analysts',\n",
       " 'Information Security Engineers',\n",
       " 'Information Technology Project Managers',\n",
       " 'Mathematicians',\n",
       " 'Network and Computer Systems Administrators',\n",
       " 'Operations Research Analysts',\n",
       " 'Penetration Testers',\n",
       " 'Software Developers',\n",
       " 'Software Quality Assurance Analysts and Testers',\n",
       " 'Statisticians',\n",
       " 'Telecommunications Engineering Specialists',\n",
       " 'Video Game Designers',\n",
       " 'Web Administrators',\n",
       " 'Web and Digital Interface Designers',\n",
       " 'Web Developers']"
      ]
     },
     "execution_count": 36,
     "metadata": {},
     "output_type": "execute_result"
    }
   ],
   "source": [
    "occupation"
   ]
  },
  {
   "cell_type": "code",
   "execution_count": null,
   "metadata": {},
   "outputs": [],
   "source": []
  }
 ],
 "metadata": {
  "kernelspec": {
   "display_name": "Python 3",
   "language": "python",
   "name": "python3"
  },
  "language_info": {
   "codemirror_mode": {
    "name": "ipython",
    "version": 3
   },
   "file_extension": ".py",
   "mimetype": "text/x-python",
   "name": "python",
   "nbconvert_exporter": "python",
   "pygments_lexer": "ipython3",
   "version": "3.8.5"
  }
 },
 "nbformat": 4,
 "nbformat_minor": 4
}
