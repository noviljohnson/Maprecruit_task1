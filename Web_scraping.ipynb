{
 "cells": [
  {
   "cell_type": "markdown",
   "metadata": {},
   "source": [
    "## Web_Scraping"
   ]
  },
  {
   "cell_type": "markdown",
   "metadata": {},
   "source": [
    "### Loading libraries"
   ]
  },
  {
   "cell_type": "code",
   "execution_count": 1,
   "metadata": {},
   "outputs": [],
   "source": [
    "import requests\n",
    "from bs4 import BeautifulSoup as bs"
   ]
  },
  {
   "cell_type": "markdown",
   "metadata": {},
   "source": [
    "### Load first webpage"
   ]
  },
  {
   "cell_type": "code",
   "execution_count": 2,
   "metadata": {},
   "outputs": [
    {
     "name": "stdout",
     "output_type": "stream",
     "text": [
      "<html>\n",
      "<head>\n",
      "<title>HTML Example</title>\n",
      "</head>\n",
      "<body>\n",
      "<div align=\"middle\">\n",
      "<h1>HTML Webpage</h1>\n",
      "<p>Link to more interesting example: <a href=\"https://keithgalli.github.io/web-scraping/webpage.html\">keithgalli.github.io/web-scraping/webpage.html</a></p>\n",
      "</div>\n",
      "<h2>A Header</h2>\n",
      "<p><i>Some italicized text</i></p>\n",
      "<h2>Another header</h2>\n",
      "<p id=\"paragraph-id\"><b>Some bold text</b></p>\n",
      "</body>\n",
      "</html>\n",
      "\n"
     ]
    }
   ],
   "source": [
    "# load the webpage content\n",
    "r = requests.get('https://keithgalli.github.io/web-scraping/example.html')\n",
    "\n",
    "# convert to beautiful soup object\n",
    "soup = bs(r.content)\n",
    "\n",
    "# print out our html\n",
    "print(soup) # soup.prettify()  will print with indentations"
   ]
  },
  {
   "cell_type": "markdown",
   "metadata": {},
   "source": [
    "### Start using bs to Scrape"
   ]
  },
  {
   "cell_type": "code",
   "execution_count": 3,
   "metadata": {},
   "outputs": [],
   "source": [
    "# find()\n",
    "# find_all()"
   ]
  },
  {
   "cell_type": "code",
   "execution_count": 4,
   "metadata": {},
   "outputs": [
    {
     "data": {
      "text/plain": [
       "<h2>A Header</h2>"
      ]
     },
     "execution_count": 4,
     "metadata": {},
     "output_type": "execute_result"
    }
   ],
   "source": [
    "first_header = soup.find('h2')  # finds the first element that matches\n",
    "first_header"
   ]
  },
  {
   "cell_type": "code",
   "execution_count": 5,
   "metadata": {},
   "outputs": [
    {
     "data": {
      "text/plain": [
       "[<h2>A Header</h2>, <h2>Another header</h2>]"
      ]
     },
     "execution_count": 5,
     "metadata": {},
     "output_type": "execute_result"
    }
   ],
   "source": [
    "headers = soup.find_all('h2')\n",
    "headers"
   ]
  },
  {
   "cell_type": "code",
   "execution_count": 6,
   "metadata": {},
   "outputs": [
    {
     "data": {
      "text/plain": [
       "<h1>HTML Webpage</h1>"
      ]
     },
     "execution_count": 6,
     "metadata": {},
     "output_type": "execute_result"
    }
   ],
   "source": [
    "# pass in a list of elements to look for\n",
    "first_header = soup.find(['h1', 'h2']) # finds first occurence of one of those elements in the list\n",
    "first_header"
   ]
  },
  {
   "cell_type": "code",
   "execution_count": 7,
   "metadata": {},
   "outputs": [
    {
     "data": {
      "text/plain": [
       "[<h1>HTML Webpage</h1>, <h2>A Header</h2>, <h2>Another header</h2>]"
      ]
     },
     "execution_count": 7,
     "metadata": {},
     "output_type": "execute_result"
    }
   ],
   "source": [
    "headers = soup.find_all(['h2', 'h1']) # finds all occurences of all elements in the list\n",
    "headers"
   ]
  },
  {
   "cell_type": "code",
   "execution_count": 8,
   "metadata": {},
   "outputs": [
    {
     "data": {
      "text/plain": [
       "[<p id=\"paragraph-id\"><b>Some bold text</b></p>]"
      ]
     },
     "execution_count": 8,
     "metadata": {},
     "output_type": "execute_result"
    }
   ],
   "source": [
    "# pass in attributes to the find/find_all funtion\n",
    "paragraph = soup.find_all(\"p\", attrs={\"id\" : \"paragraph-id\"})\n",
    "paragraph"
   ]
  },
  {
   "cell_type": "code",
   "execution_count": 9,
   "metadata": {},
   "outputs": [
    {
     "data": {
      "text/plain": [
       "<h1>HTML Webpage</h1>"
      ]
     },
     "execution_count": 9,
     "metadata": {},
     "output_type": "execute_result"
    }
   ],
   "source": [
    "# u can nest find/find_all \n",
    "body = soup.find('body')\n",
    "div = body.find('div')\n",
    "header = div.find('h1')\n",
    "header"
   ]
  },
  {
   "cell_type": "code",
   "execution_count": 10,
   "metadata": {},
   "outputs": [
    {
     "name": "stdout",
     "output_type": "stream",
     "text": [
      "[] [<p id=\"paragraph-id\"><b>Some bold text</b></p>]\n",
      "[<p><i>Some italicized text</i></p>, <p id=\"paragraph-id\"><b>Some bold text</b></p>]\n"
     ]
    },
    {
     "data": {
      "text/plain": [
       "[<h2>A Header</h2>, <h2>Another header</h2>]"
      ]
     },
     "execution_count": 10,
     "metadata": {},
     "output_type": "execute_result"
    }
   ],
   "source": [
    "# search specific strings in our find/findall cells\n",
    "para = soup.find_all('p', string = 'Some') # here we need to give full string \n",
    "para1 = soup.find_all('p', string = 'Some bold text')\n",
    "print(para, para1)\n",
    "\n",
    "# we can use regx library \n",
    "import re\n",
    "paragraph = soup.find_all('p', string = re.compile('Some'))\n",
    "print(paragraph)\n",
    "\n",
    "header = soup.find_all('h2', string = re.compile('(H|h)eader'))\n",
    "header"
   ]
  },
  {
   "cell_type": "markdown",
   "metadata": {},
   "source": [
    "### Select (CSS selector)"
   ]
  },
  {
   "cell_type": "code",
   "execution_count": 11,
   "metadata": {},
   "outputs": [
    {
     "data": {
      "text/plain": [
       "[<p>Link to more interesting example: <a href=\"https://keithgalli.github.io/web-scraping/webpage.html\">keithgalli.github.io/web-scraping/webpage.html</a></p>,\n",
       " <p><i>Some italicized text</i></p>,\n",
       " <p id=\"paragraph-id\"><b>Some bold text</b></p>]"
      ]
     },
     "execution_count": 11,
     "metadata": {},
     "output_type": "execute_result"
    }
   ],
   "source": [
    "content = soup.select('p')\n",
    "content"
   ]
  },
  {
   "cell_type": "code",
   "execution_count": 12,
   "metadata": {},
   "outputs": [
    {
     "name": "stdout",
     "output_type": "stream",
     "text": [
      "<body>\n",
      " <div align=\"middle\">\n",
      "  <h1>\n",
      "   HTML Webpage\n",
      "  </h1>\n",
      "  <p>\n",
      "   Link to more interesting example:\n",
      "   <a href=\"https://keithgalli.github.io/web-scraping/webpage.html\">\n",
      "    keithgalli.github.io/web-scraping/webpage.html\n",
      "   </a>\n",
      "  </p>\n",
      " </div>\n",
      " <h2>\n",
      "  A Header\n",
      " </h2>\n",
      " <p>\n",
      "  <i>\n",
      "   Some italicized text\n",
      "  </i>\n",
      " </p>\n",
      " <h2>\n",
      "  Another header\n",
      " </h2>\n",
      " <p id=\"paragraph-id\">\n",
      "  <b>\n",
      "   Some bold text\n",
      "  </b>\n",
      " </p>\n",
      "</body>\n",
      "\n"
     ]
    }
   ],
   "source": [
    "print(soup.body.prettify())"
   ]
  },
  {
   "cell_type": "code",
   "execution_count": 13,
   "metadata": {},
   "outputs": [
    {
     "data": {
      "text/plain": [
       "[<p>Link to more interesting example: <a href=\"https://keithgalli.github.io/web-scraping/webpage.html\">keithgalli.github.io/web-scraping/webpage.html</a></p>]"
      ]
     },
     "execution_count": 13,
     "metadata": {},
     "output_type": "execute_result"
    }
   ],
   "source": [
    "cont = soup.select('div p')\n",
    "cont"
   ]
  },
  {
   "cell_type": "code",
   "execution_count": 14,
   "metadata": {},
   "outputs": [
    {
     "name": "stdout",
     "output_type": "stream",
     "text": [
      "[<p><i>Some italicized text</i></p>, <p id=\"paragraph-id\"><b>Some bold text</b></p>]\n",
      "[<i>Some italicized text</i>]\n",
      "[]\n"
     ]
    }
   ],
   "source": [
    "paragraphs = soup.select('body > p')\n",
    "print(paragraphs)\n",
    "\n",
    "for paragraph in paragraphs:\n",
    "    print(paragraph.select('i'))"
   ]
  },
  {
   "cell_type": "markdown",
   "metadata": {},
   "source": [
    "### Getting different properties of the HTML"
   ]
  },
  {
   "cell_type": "code",
   "execution_count": 15,
   "metadata": {},
   "outputs": [
    {
     "name": "stdout",
     "output_type": "stream",
     "text": [
      "<div align=\"middle\">\n",
      " <h1>\n",
      "  HTML Webpage\n",
      " </h1>\n",
      " <p>\n",
      "  Link to more interesting example:\n",
      "  <a href=\"https://keithgalli.github.io/web-scraping/webpage.html\">\n",
      "   keithgalli.github.io/web-scraping/webpage.html\n",
      "  </a>\n",
      " </p>\n",
      "</div>\n",
      "\n",
      "None\n",
      "\n",
      "HTML Webpage\n",
      "Link to more interesting example: keithgalli.github.io/web-scraping/webpage.html\n",
      "\n"
     ]
    }
   ],
   "source": [
    "# to get the header name only\n",
    "header = soup.find('h2')\n",
    "header.string\n",
    "\n",
    "div = soup.find('div')\n",
    "print(div.prettify())\n",
    "print(div.string) # none 'cause multiple tags in side the div\n",
    "print(div.get_text())  # to get only content from different tags"
   ]
  },
  {
   "cell_type": "code",
   "execution_count": 16,
   "metadata": {},
   "outputs": [
    {
     "data": {
      "text/plain": [
       "'paragraph-id'"
      ]
     },
     "execution_count": 16,
     "metadata": {},
     "output_type": "execute_result"
    }
   ],
   "source": [
    "# get a specific property form an element\n",
    "link = soup.find('a')\n",
    "link['href']\n",
    "\n",
    "paragraph = soup.select('p#paragraph-id')\n",
    "paragraph[0]['id']"
   ]
  },
  {
   "cell_type": "markdown",
   "metadata": {},
   "source": [
    "### Code navigation"
   ]
  },
  {
   "cell_type": "code",
   "execution_count": 17,
   "metadata": {},
   "outputs": [
    {
     "name": "stdout",
     "output_type": "stream",
     "text": [
      "<body>\n",
      " <div align=\"middle\">\n",
      "  <h1>\n",
      "   HTML Webpage\n",
      "  </h1>\n",
      "  <p>\n",
      "   Link to more interesting example:\n",
      "   <a href=\"https://keithgalli.github.io/web-scraping/webpage.html\">\n",
      "    keithgalli.github.io/web-scraping/webpage.html\n",
      "   </a>\n",
      "  </p>\n",
      " </div>\n",
      " <h2>\n",
      "  A Header\n",
      " </h2>\n",
      " <p>\n",
      "  <i>\n",
      "   Some italicized text\n",
      "  </i>\n",
      " </p>\n",
      " <h2>\n",
      "  Another header\n",
      " </h2>\n",
      " <p id=\"paragraph-id\">\n",
      "  <b>\n",
      "   Some bold text\n",
      "  </b>\n",
      " </p>\n",
      "</body>\n",
      "\n"
     ]
    }
   ],
   "source": [
    "# path syntax\n",
    "soup.body.div.h1.string\n",
    "print(soup.body.prettify())"
   ]
  },
  {
   "cell_type": "code",
   "execution_count": 18,
   "metadata": {},
   "outputs": [
    {
     "data": {
      "text/plain": [
       "[<h2>A Header</h2>,\n",
       " <p><i>Some italicized text</i></p>,\n",
       " <h2>Another header</h2>,\n",
       " <p id=\"paragraph-id\"><b>Some bold text</b></p>]"
      ]
     },
     "execution_count": 18,
     "metadata": {},
     "output_type": "execute_result"
    }
   ],
   "source": [
    "# know the terms: parent, sibling, child\n",
    "\n",
    "soup.body.find('div').find_next_siblings()"
   ]
  },
  {
   "cell_type": "code",
   "execution_count": 19,
   "metadata": {},
   "outputs": [],
   "source": [
    "keith = 'https://keithgalli.github.io/web-scraping/webpage.html'"
   ]
  },
  {
   "cell_type": "code",
   "execution_count": 20,
   "metadata": {},
   "outputs": [
    {
     "name": "stdout",
     "output_type": "stream",
     "text": [
      "<html><head>\n",
      "<title>Keith Galli's Page</title>\n",
      "<style>\n",
      "  table {\n",
      "    border-collapse: collapse;\n",
      "  }\n",
      "  th {\n",
      "    padding:5px;\n",
      "  }\n",
      "  td {\n",
      "    border: 1px solid #ddd;\n",
      "    padding: 5px;\n",
      "  }\n",
      "  tr:nth-child(even) {\n",
      "    background-color: #f2f2f2;\n",
      "  }\n",
      "  th {\n",
      "    padding-top: 12px;\n",
      "    padding-bottom: 12px;\n",
      "    text-align: left;\n",
      "    background-color: #add8e6;\n",
      "    color: black;\n",
      "  }\n",
      "  .block {\n",
      "  width: 100px;\n",
      "  /*float: left;*/\n",
      "    display: inline-block;\n",
      "    zoom: 1;\n",
      "  }\n",
      "  .column {\n",
      "  float: left;\n",
      "  height: 200px;\n",
      "  /*width: 33.33%;*/\n",
      "  padding: 5px;\n",
      "  }\n",
      "\n",
      "  .row::after {\n",
      "    content: \"\";\n",
      "    clear: both;\n",
      "    display: table;\n",
      "  }\n",
      "</style>\n",
      "</head>\n",
      "<body>\n",
      "<h1>Welcome to my page!</h1>\n",
      "<img src=\"./images/selfie1.jpg\" width=\"300px\"/>\n",
      "<h2>About me</h2>\n",
      "<p>Hi, my name is Keith and I am a YouTuber who focuses on content related to programming, data science, and machine learning!</p>\n",
      "<p>Here is a link to my channel: <a href=\"https://www.youtube.com/kgmit\">youtube.com/kgmit</a></p>\n",
      "<p>I grew up in the great state of New Hampshire here in the USA. From an early age I always loved math. Around my senior year of high school, my brother first introduced me to programming. I found it a creative way to apply the same type of logical thinking skills that I enjoyed with math. This influenced me to study computer science in college and ultimately create a YouTube channel to share some things that I have learned along the way.</p>\n",
      "<h3>Hobbies</h3>\n",
      "<p>Believe it or not, I don't code 24/7. I love doing all sorts of active things. I like to play ice hockey &amp; table tennis as well as run, hike, skateboard, and snowboard. In addition to sports, I am a board game enthusiast. The two that I've been playing the most recently are <i>Settlers of Catan</i> and <i>Othello</i>.</p>\n",
      "<h3>Fun Facts</h3>\n",
      "<ul class=\"fun-facts\">\n",
      "<li>Owned my dream car in high school <a href=\"#footer\"><sup>1</sup></a></li>\n",
      "<li>Middle name is Ronald</li>\n",
      "<li>Never had been on a plane until college</li>\n",
      "<li>Dunkin Donuts coffee is better than Starbucks</li>\n",
      "<li>A favorite book series of mine is <i>Ender's Game</i></li>\n",
      "<li>Current video game of choice is <i>Rocket League</i></li>\n",
      "<li>The band that I've seen the most times live is the <i>Zac Brown Band</i></li>\n",
      "</ul>\n",
      "<h2>Social Media</h2>\n",
      "  I encourage you to check out my content on all social media platforms\n",
      "  <br/>\n",
      "<ul class=\"socials\">\n",
      "<li class=\"social instagram\"><b>Instagram: </b><a href=\"https://www.instagram.com/keithgalli/\">https://www.instagram.com/keithgalli/</a></li>\n",
      "<li class=\"social twitter\"><b>Twitter: </b><a href=\"https://twitter.com/keithgalli\">https://twitter.com/keithgalli</a></li>\n",
      "<li class=\"social linkedin\"><b>LinkedIn: </b><a href=\"https://www.linkedin.com/in/keithgalli/\">https://www.linkedin.com/in/keithgalli/</a></li>\n",
      "<li class=\"social tiktok\"><b>TikTok: </b><a href=\"https://www.tiktok.com/@keithgalli\">https://www.tiktok.com/@keithgalli</a></li>\n",
      "</ul>\n",
      "<h2>Photos</h2>\n",
      "  Here are a few photos from a trip to italy I took last year\n",
      "  <div class=\"row\">\n",
      "<div class=\"column\">\n",
      "<img alt=\"Lake Como\" src=\"images/italy/lake_como.jpg\" style=\"height:100%\"/>\n",
      "</div>\n",
      "<div class=\"column\">\n",
      "<img alt=\"Pontevecchio, Florence\" src=\"images/italy/pontevecchio.jpg\" style=\"height:100%\"/>\n",
      "</div>\n",
      "<div class=\"column\">\n",
      "<img alt=\"Riomaggiore, Cinque de Terre\" src=\"images/italy/riomaggiore.jpg\" style=\"height:100%\"/>\n",
      "</div>\n",
      "</div>\n",
      "<div></div>\n",
      "<h2> Table </h2>\n",
      "  My MIT hockey stats :) \n",
      "  <br/>\n",
      "<table class=\"hockey-stats\">\n",
      "<thead>\n",
      "<tr>\n",
      "<th class=\"season\" data-sort=\"\">S</th>\n",
      "<th class=\"team\" data-sort=\"team\">Team</th>\n",
      "<th class=\"league\" data-sort=\"league\">League</th>\n",
      "<th class=\"regular gp\" data-sort=\"gp\">GP</th>\n",
      "<th class=\"regular g\" data-sort=\"g\">G</th>\n",
      "<th class=\"regular a\" data-sort=\"a\">A</th>\n",
      "<th class=\"regular tp\" data-sort=\"tp\">TP</th>\n",
      "<th class=\"regular pim\" data-sort=\"pim\">PIM</th>\n",
      "<th class=\"regular pm\" data-sort=\"pm\">+/-</th>\n",
      "<th class=\"separator\"> </th>\n",
      "<th class=\"postseason\">POST</th>\n",
      "<th class=\"postseason gp\" data-sort=\"playoffs-gp\">GP</th>\n",
      "<th class=\"postseason g\" data-sort=\"playoffs-g\">G</th>\n",
      "<th class=\"postseason a\" data-sort=\"playoffs-a\">A</th>\n",
      "<th class=\"postseason tp\" data-sort=\"playoffs-tp\">TP</th>\n",
      "<th class=\"postseason pim\" data-sort=\"playoffs-pim\">PIM</th>\n",
      "<th class=\"postseason pm\" data-sort=\"playoffs-pm\">+/-</th>\n",
      "</tr>\n",
      "</thead>\n",
      "<tbody>\n",
      "<tr class=\"team-continent-NA\">\n",
      "<td class=\"season sorted\">\n",
      "                  2014-15\n",
      "              </td>\n",
      "<td class=\"team\">\n",
      "<i><img src=\"images/flag.png\"/></i>\n",
      "<span class=\"txt-blue\">\n",
      "<a href=\"https://www.eliteprospects.com/team/10263/mit-mass.-inst.-of-tech./2014-2015?tab=stats\"> MIT (Mass. Inst. of Tech.) </a>\n",
      "</span>\n",
      "</td>\n",
      "<td class=\"league\"> <a href=\"https://www.eliteprospects.com/league/acha-ii/stats/2014-2015\"> ACHA II </a> </td>\n",
      "<td class=\"regular gp\">17</td>\n",
      "<td class=\"regular g\">3</td>\n",
      "<td class=\"regular a\">9</td>\n",
      "<td class=\"regular tp\">12</td>\n",
      "<td class=\"regular pim\">20</td>\n",
      "<td class=\"regular pm\"></td>\n",
      "<td class=\"separator\"> | </td>\n",
      "<td class=\"postseason\">\n",
      "<a href=\"https://www.eliteprospects.com/league/acha-ii/stats/2014-2015\"> </a>\n",
      "</td>\n",
      "<td class=\"postseason gp\">\n",
      "</td>\n",
      "<td class=\"postseason g\">\n",
      "</td>\n",
      "<td class=\"postseason a\">\n",
      "</td>\n",
      "<td class=\"postseason tp\">\n",
      "</td>\n",
      "<td class=\"postseason pim\">\n",
      "</td>\n",
      "<td class=\"postseason pm\">\n",
      "</td>\n",
      "</tr>\n",
      "<tr class=\"team-continent-NA\">\n",
      "<td class=\"season sorted\">\n",
      "                  2015-16\n",
      "              </td>\n",
      "<td class=\"team\">\n",
      "<i><img src=\"images/flag.png\"/></i>\n",
      "<span class=\"txt-blue\">\n",
      "<a href=\"https://www.eliteprospects.com/team/10263/mit-mass.-inst.-of-tech./2015-2016?tab=stats\"> MIT (Mass. Inst. of Tech.) </a>\n",
      "</span>\n",
      "</td>\n",
      "<td class=\"league\"> <a href=\"https://www.eliteprospects.com/league/acha-ii/stats/2015-2016\"> ACHA II </a> </td>\n",
      "<td class=\"regular gp\">9</td>\n",
      "<td class=\"regular g\">1</td>\n",
      "<td class=\"regular a\">1</td>\n",
      "<td class=\"regular tp\">2</td>\n",
      "<td class=\"regular pim\">2</td>\n",
      "<td class=\"regular pm\"></td>\n",
      "<td class=\"separator\"> | </td>\n",
      "<td class=\"postseason\">\n",
      "<a href=\"https://www.eliteprospects.com/league/acha-ii/stats/2015-2016\"> </a>\n",
      "</td>\n",
      "<td class=\"postseason gp\">\n",
      "</td>\n",
      "<td class=\"postseason g\">\n",
      "</td>\n",
      "<td class=\"postseason a\">\n",
      "</td>\n",
      "<td class=\"postseason tp\">\n",
      "</td>\n",
      "<td class=\"postseason pim\">\n",
      "</td>\n",
      "<td class=\"postseason pm\">\n",
      "</td>\n",
      "</tr>\n",
      "<tr class=\"team-continent-NA\">\n",
      "<td class=\"season sorted\">\n",
      "                  2016-17\n",
      "              </td>\n",
      "<td class=\"team\">\n",
      "<i><img src=\"images/flag.png\"/></i>\n",
      "<span class=\"txt-blue\">\n",
      "<a href=\"https://www.eliteprospects.com/team/10263/mit-mass.-inst.-of-tech./2016-2017?tab=stats\"> MIT (Mass. Inst. of Tech.) </a>\n",
      "</span>\n",
      "</td>\n",
      "<td class=\"league\"> <a href=\"https://www.eliteprospects.com/league/acha-ii/stats/2016-2017\"> ACHA II </a> </td>\n",
      "<td class=\"regular gp\">12</td>\n",
      "<td class=\"regular g\">5</td>\n",
      "<td class=\"regular a\">5</td>\n",
      "<td class=\"regular tp\">10</td>\n",
      "<td class=\"regular pim\">8</td>\n",
      "<td class=\"regular pm\">0</td>\n",
      "<td class=\"separator\"> | </td>\n",
      "<td class=\"postseason\">\n",
      "</td>\n",
      "<td class=\"postseason gp\">\n",
      "</td>\n",
      "<td class=\"postseason g\">\n",
      "</td>\n",
      "<td class=\"postseason a\">\n",
      "</td>\n",
      "<td class=\"postseason tp\">\n",
      "</td>\n",
      "<td class=\"postseason pim\">\n",
      "</td>\n",
      "<td class=\"postseason pm\">\n",
      "</td>\n",
      "</tr>\n",
      "<tr class=\"team-continent-EU\">\n",
      "<td class=\"season sorted\">\n",
      "                  2017-18\n",
      "              </td>\n",
      "<td class=\"team\">\n",
      "                  Did not play\n",
      "              </td>\n",
      "<td class=\"league\"> <a href=\"https://www.eliteprospects.com/stats\"> </a> </td>\n",
      "<td class=\"regular gp\"></td>\n",
      "<td class=\"regular g\"></td>\n",
      "<td class=\"regular a\"></td>\n",
      "<td class=\"regular tp\"></td>\n",
      "<td class=\"regular pim\"></td>\n",
      "<td class=\"regular pm\"></td>\n",
      "<td class=\"separator\"> | </td>\n",
      "<td class=\"postseason\">\n",
      "<a href=\"https://www.eliteprospects.com/stats\"> </a>\n",
      "</td>\n",
      "<td class=\"postseason gp\">\n",
      "</td>\n",
      "<td class=\"postseason g\">\n",
      "</td>\n",
      "<td class=\"postseason a\">\n",
      "</td>\n",
      "<td class=\"postseason tp\">\n",
      "</td>\n",
      "<td class=\"postseason pim\">\n",
      "</td>\n",
      "<td class=\"postseason pm\">\n",
      "</td>\n",
      "</tr>\n",
      "<tr class=\"team-continent-NA\">\n",
      "<td class=\"season sorted\">\n",
      "                  2018-19\n",
      "              </td>\n",
      "<td class=\"team\">\n",
      "<i><img src=\"images/flag.png\"/></i>\n",
      "<span class=\"txt-blue\">\n",
      "<a href=\"https://www.eliteprospects.com/team/10263/mit-mass.-inst.-of-tech./2018-2019?tab=stats\"> MIT (Mass. Inst. of Tech.) </a>\n",
      "</span>\n",
      "</td>\n",
      "<td class=\"league\"> <a href=\"https://www.eliteprospects.com/league/acha-iii/stats/2018-2019\"> ACHA III </a> </td>\n",
      "<td class=\"regular gp\">8</td>\n",
      "<td class=\"regular g\">5</td>\n",
      "<td class=\"regular a\">10</td>\n",
      "<td class=\"regular tp\">15</td>\n",
      "<td class=\"regular pim\">8</td>\n",
      "<td class=\"regular pm\"></td>\n",
      "<td class=\"separator\"> | </td>\n",
      "<td class=\"postseason\">\n",
      "<a href=\"https://www.eliteprospects.com/league/acha-iii/stats/2018-2019\"> </a>\n",
      "</td>\n",
      "<td class=\"postseason gp\">\n",
      "</td>\n",
      "<td class=\"postseason g\">\n",
      "</td>\n",
      "<td class=\"postseason a\">\n",
      "</td>\n",
      "<td class=\"postseason tp\">\n",
      "</td>\n",
      "<td class=\"postseason pim\">\n",
      "</td>\n",
      "<td class=\"postseason pm\">\n",
      "</td>\n",
      "</tr>\n",
      "</tbody>\n",
      "</table>\n",
      "<h2>Mystery Message Challenge!</h2>\n",
      "<p>If you scrape the links below grabbing the &lt;p&gt; tag with id=\"secret-word\", you'll discover a secret message :)</p>\n",
      "<div width=\"50%\">\n",
      "<div align=\"left\" class=\"block\">\n",
      "<ul>\n",
      "<li><a href=\"challenge/file_1.html\">File 1</a></li>\n",
      "<li><a href=\"challenge/file_2.html\">File 2</a></li>\n",
      "<li><a href=\"challenge/file_3.html\">File 3</a></li>\n",
      "<li><a href=\"challenge/file_4.html\">File 4</a></li>\n",
      "<li><a href=\"challenge/file_5.html\">File 5</a></li>\n",
      "</ul>\n",
      "</div>\n",
      "<div align=\"center\" class=\"block\">\n",
      "<ul>\n",
      "<li><a href=\"challenge/file_6.html\">File 6</a></li>\n",
      "<li><a href=\"challenge/file_7.html\">File 7</a></li>\n",
      "<li><a href=\"challenge/file_8.html\">File 8</a></li>\n",
      "<li><a href=\"challenge/file_9.html\">File 9</a></li>\n",
      "<li><a href=\"challenge/file_10.html\">File 10</a></li>\n",
      "</ul>\n",
      "</div>\n",
      "</div>\n",
      "<h2>Footnotes</h2>\n",
      "<p id=\"footer\">1. This was actually a minivan that I named Debora. Maybe not my dream car, but I loved her nonetheless.</p>\n",
      "</body>\n",
      "</html>\n"
     ]
    }
   ],
   "source": [
    "# load webpage \n",
    "r = requests.get(keith)\n",
    "webpage = bs(r.content)\n",
    "print(webpage)"
   ]
  },
  {
   "cell_type": "markdown",
   "metadata": {},
   "source": [
    "### Task1 \n",
    "#### get all social media links"
   ]
  },
  {
   "cell_type": "code",
   "execution_count": 21,
   "metadata": {
    "scrolled": true
   },
   "outputs": [
    {
     "name": "stdout",
     "output_type": "stream",
     "text": [
      "Instagram:  https://www.instagram.com/keithgalli/\n",
      "Twitter:  https://twitter.com/keithgalli\n",
      "LinkedIn:  https://www.linkedin.com/in/keithgalli/\n",
      "TikTok:  https://www.tiktok.com/@keithgalli\n"
     ]
    }
   ],
   "source": [
    "for i in webpage.body.find_all('ul')[1].find_all('li'):\n",
    "    print(i.find('b').string,i.find('a')['href'])"
   ]
  },
  {
   "cell_type": "code",
   "execution_count": 22,
   "metadata": {},
   "outputs": [
    {
     "name": "stdout",
     "output_type": "stream",
     "text": [
      "Instagram:  https://www.instagram.com/keithgalli/\n",
      "Twitter:  https://twitter.com/keithgalli\n",
      "LinkedIn:  https://www.linkedin.com/in/keithgalli/\n",
      "TikTok:  https://www.tiktok.com/@keithgalli\n"
     ]
    }
   ],
   "source": [
    "for i in webpage.body.select('ul')[1].select('li'):\n",
    "    print(i.b.string,i.a['href'])"
   ]
  },
  {
   "cell_type": "code",
   "execution_count": 23,
   "metadata": {},
   "outputs": [
    {
     "data": {
      "text/plain": [
       "['https://www.instagram.com/keithgalli/',\n",
       " 'https://twitter.com/keithgalli',\n",
       " 'https://www.linkedin.com/in/keithgalli/',\n",
       " 'https://www.tiktok.com/@keithgalli']"
      ]
     },
     "execution_count": 23,
     "metadata": {},
     "output_type": "execute_result"
    }
   ],
   "source": [
    "# keith\n",
    "links = webpage.select('ul.socials a')\n",
    "#print(links)\n",
    "actual_links = [link['href'] for link in links]\n",
    "actual_links"
   ]
  },
  {
   "cell_type": "code",
   "execution_count": 24,
   "metadata": {},
   "outputs": [
    {
     "data": {
      "text/plain": [
       "['https://www.instagram.com/keithgalli/',\n",
       " 'https://twitter.com/keithgalli',\n",
       " 'https://www.linkedin.com/in/keithgalli/',\n",
       " 'https://www.tiktok.com/@keithgalli']"
      ]
     },
     "execution_count": 24,
     "metadata": {},
     "output_type": "execute_result"
    }
   ],
   "source": [
    "links = webpage.select('li.social a')\n",
    "a_links = [link['href'] for link in links]\n",
    "a_links"
   ]
  },
  {
   "cell_type": "markdown",
   "metadata": {},
   "source": [
    "### Task2\n",
    "#### Scrape the table on the page"
   ]
  },
  {
   "cell_type": "code",
   "execution_count": 25,
   "metadata": {},
   "outputs": [],
   "source": [
    "import pandas as pd"
   ]
  },
  {
   "cell_type": "code",
   "execution_count": 26,
   "metadata": {
    "scrolled": true
   },
   "outputs": [
    {
     "data": {
      "text/plain": [
       "['S',\n",
       " 'Team',\n",
       " 'League',\n",
       " 'GP',\n",
       " 'G',\n",
       " 'A',\n",
       " 'TP',\n",
       " 'PIM',\n",
       " '+/-',\n",
       " '\\xa0',\n",
       " 'POST',\n",
       " 'GP',\n",
       " 'G',\n",
       " 'A',\n",
       " 'TP',\n",
       " 'PIM',\n",
       " '+/-']"
      ]
     },
     "execution_count": 26,
     "metadata": {},
     "output_type": "execute_result"
    }
   ],
   "source": [
    "table = webpage.table\n",
    "columns = []\n",
    "for i in table.tr.find_all('th'):\n",
    "    columns.append(i.string)\n",
    "columns"
   ]
  },
  {
   "cell_type": "code",
   "execution_count": 27,
   "metadata": {},
   "outputs": [
    {
     "data": {
      "text/plain": [
       "'MIT (Mass. Inst. of Tech.)'"
      ]
     },
     "execution_count": 27,
     "metadata": {},
     "output_type": "execute_result"
    }
   ],
   "source": [
    "rows = table.find('tbody').find_all('tr')\n",
    "rows[0].find_all('td')[1].get_text()[4:-3]\n",
    "#rows[0].find_all('td')[1]"
   ]
  },
  {
   "cell_type": "code",
   "execution_count": 28,
   "metadata": {
    "scrolled": true
   },
   "outputs": [
    {
     "data": {
      "text/plain": [
       "<tr class=\"team-continent-NA\">\n",
       "<td class=\"season sorted\">\n",
       "                  2014-15\n",
       "              </td>\n",
       "<td class=\"team\">\n",
       "<i><img src=\"images/flag.png\"/></i>\n",
       "<span class=\"txt-blue\">\n",
       "<a href=\"https://www.eliteprospects.com/team/10263/mit-mass.-inst.-of-tech./2014-2015?tab=stats\"> MIT (Mass. Inst. of Tech.) </a>\n",
       "</span>\n",
       "</td>\n",
       "<td class=\"league\"> <a href=\"https://www.eliteprospects.com/league/acha-ii/stats/2014-2015\"> ACHA II </a> </td>\n",
       "<td class=\"regular gp\">17</td>\n",
       "<td class=\"regular g\">3</td>\n",
       "<td class=\"regular a\">9</td>\n",
       "<td class=\"regular tp\">12</td>\n",
       "<td class=\"regular pim\">20</td>\n",
       "<td class=\"regular pm\"></td>\n",
       "<td class=\"separator\"> | </td>\n",
       "<td class=\"postseason\">\n",
       "<a href=\"https://www.eliteprospects.com/league/acha-ii/stats/2014-2015\"> </a>\n",
       "</td>\n",
       "<td class=\"postseason gp\">\n",
       "</td>\n",
       "<td class=\"postseason g\">\n",
       "</td>\n",
       "<td class=\"postseason a\">\n",
       "</td>\n",
       "<td class=\"postseason tp\">\n",
       "</td>\n",
       "<td class=\"postseason pim\">\n",
       "</td>\n",
       "<td class=\"postseason pm\">\n",
       "</td>\n",
       "</tr>"
      ]
     },
     "execution_count": 28,
     "metadata": {},
     "output_type": "execute_result"
    }
   ],
   "source": [
    "rows[0]"
   ]
  },
  {
   "cell_type": "code",
   "execution_count": 32,
   "metadata": {
    "scrolled": true
   },
   "outputs": [
    {
     "data": {
      "text/html": [
       "<div>\n",
       "<style scoped>\n",
       "    .dataframe tbody tr th:only-of-type {\n",
       "        vertical-align: middle;\n",
       "    }\n",
       "\n",
       "    .dataframe tbody tr th {\n",
       "        vertical-align: top;\n",
       "    }\n",
       "\n",
       "    .dataframe thead th {\n",
       "        text-align: right;\n",
       "    }\n",
       "</style>\n",
       "<table border=\"1\" class=\"dataframe\">\n",
       "  <thead>\n",
       "    <tr style=\"text-align: right;\">\n",
       "      <th></th>\n",
       "      <th>S</th>\n",
       "      <th>Team</th>\n",
       "      <th>League</th>\n",
       "      <th>GP</th>\n",
       "      <th>G</th>\n",
       "      <th>A</th>\n",
       "      <th>TP</th>\n",
       "      <th>PIM</th>\n",
       "      <th>+/-</th>\n",
       "      <th></th>\n",
       "      <th>POST</th>\n",
       "      <th>GP</th>\n",
       "      <th>G</th>\n",
       "      <th>A</th>\n",
       "      <th>TP</th>\n",
       "      <th>PIM</th>\n",
       "      <th>+/-</th>\n",
       "    </tr>\n",
       "  </thead>\n",
       "  <tbody>\n",
       "    <tr>\n",
       "      <th>0</th>\n",
       "      <td>2014-15</td>\n",
       "      <td>MIT (Mass. Inst. of Tech.)</td>\n",
       "      <td>ACHA II</td>\n",
       "      <td>17</td>\n",
       "      <td>3</td>\n",
       "      <td>9</td>\n",
       "      <td>12</td>\n",
       "      <td>20</td>\n",
       "      <td></td>\n",
       "      <td>|</td>\n",
       "      <td></td>\n",
       "      <td></td>\n",
       "      <td></td>\n",
       "      <td></td>\n",
       "      <td></td>\n",
       "      <td></td>\n",
       "      <td></td>\n",
       "    </tr>\n",
       "    <tr>\n",
       "      <th>1</th>\n",
       "      <td>2015-16</td>\n",
       "      <td>MIT (Mass. Inst. of Tech.)</td>\n",
       "      <td>ACHA II</td>\n",
       "      <td>9</td>\n",
       "      <td>1</td>\n",
       "      <td>1</td>\n",
       "      <td>2</td>\n",
       "      <td>2</td>\n",
       "      <td></td>\n",
       "      <td>|</td>\n",
       "      <td></td>\n",
       "      <td></td>\n",
       "      <td></td>\n",
       "      <td></td>\n",
       "      <td></td>\n",
       "      <td></td>\n",
       "      <td></td>\n",
       "    </tr>\n",
       "    <tr>\n",
       "      <th>2</th>\n",
       "      <td>2016-17</td>\n",
       "      <td>MIT (Mass. Inst. of Tech.)</td>\n",
       "      <td>ACHA II</td>\n",
       "      <td>12</td>\n",
       "      <td>5</td>\n",
       "      <td>5</td>\n",
       "      <td>10</td>\n",
       "      <td>8</td>\n",
       "      <td>0</td>\n",
       "      <td>|</td>\n",
       "      <td></td>\n",
       "      <td></td>\n",
       "      <td></td>\n",
       "      <td></td>\n",
       "      <td></td>\n",
       "      <td></td>\n",
       "      <td></td>\n",
       "    </tr>\n",
       "    <tr>\n",
       "      <th>3</th>\n",
       "      <td>2017-18</td>\n",
       "      <td>Did not play</td>\n",
       "      <td></td>\n",
       "      <td></td>\n",
       "      <td></td>\n",
       "      <td></td>\n",
       "      <td></td>\n",
       "      <td></td>\n",
       "      <td></td>\n",
       "      <td>|</td>\n",
       "      <td></td>\n",
       "      <td></td>\n",
       "      <td></td>\n",
       "      <td></td>\n",
       "      <td></td>\n",
       "      <td></td>\n",
       "      <td></td>\n",
       "    </tr>\n",
       "    <tr>\n",
       "      <th>4</th>\n",
       "      <td>2018-19</td>\n",
       "      <td>MIT (Mass. Inst. of Tech.)</td>\n",
       "      <td>ACHA III</td>\n",
       "      <td>8</td>\n",
       "      <td>5</td>\n",
       "      <td>10</td>\n",
       "      <td>15</td>\n",
       "      <td>8</td>\n",
       "      <td></td>\n",
       "      <td>|</td>\n",
       "      <td></td>\n",
       "      <td></td>\n",
       "      <td></td>\n",
       "      <td></td>\n",
       "      <td></td>\n",
       "      <td></td>\n",
       "      <td></td>\n",
       "    </tr>\n",
       "  </tbody>\n",
       "</table>\n",
       "</div>"
      ],
      "text/plain": [
       "         S                        Team    League  GP  G   A  TP PIM +/-     \\\n",
       "0  2014-15  MIT (Mass. Inst. of Tech.)   ACHA II  17  3   9  12  20      |   \n",
       "1  2015-16  MIT (Mass. Inst. of Tech.)   ACHA II   9  1   1   2   2      |   \n",
       "2  2016-17  MIT (Mass. Inst. of Tech.)   ACHA II  12  5   5  10   8   0  |   \n",
       "3  2017-18                Did not play                                   |   \n",
       "4  2018-19  MIT (Mass. Inst. of Tech.)  ACHA III   8  5  10  15   8      |   \n",
       "\n",
       "  POST GP G A TP PIM +/-  \n",
       "0                         \n",
       "1                         \n",
       "2                         \n",
       "3                         \n",
       "4                         "
      ]
     },
     "execution_count": 32,
     "metadata": {},
     "output_type": "execute_result"
    }
   ],
   "source": [
    "row_data = []\n",
    "for r in rows:\n",
    "    td = r.find_all('td')\n",
    "    data = [str(j.get_text()).strip() for j in td]\n",
    "    row_data.append(data)\n",
    "Data_frame = pd.DataFrame(row_data, columns = columns)\n",
    "Data_frame.head()"
   ]
  },
  {
   "cell_type": "markdown",
   "metadata": {},
   "source": [
    "### Task3\n",
    "#### Funfacts"
   ]
  },
  {
   "cell_type": "code",
   "execution_count": 43,
   "metadata": {},
   "outputs": [
    {
     "data": {
      "text/plain": [
       "['',\n",
       " 'Owned my dream car in high school 1',\n",
       " 'Middle name is Ronald',\n",
       " 'Never had been on a plane until college',\n",
       " 'Dunkin Donuts coffee is better than Starbucks',\n",
       " \"A favorite book series of mine is Ender's Game\",\n",
       " 'Current video game of choice is Rocket League',\n",
       " \"The band that I've seen the most times live is the Zac Brown Band\",\n",
       " '']"
      ]
     },
     "execution_count": 43,
     "metadata": {},
     "output_type": "execute_result"
    }
   ],
   "source": [
    "str(webpage.body.select('ul.fun-facts')[0].get_text()).split('\\n')"
   ]
  },
  {
   "cell_type": "code",
   "execution_count": 52,
   "metadata": {},
   "outputs": [],
   "source": [
    "images = webpage.body.select('div.row img')\n",
    "image_url= images[0]['src']\n",
    "\n",
    "ful_url = keith + image_url # we need to create ful url for image\n",
    "img_data = requests.get(ful_url).content\n",
    "with open('lake_como.jpg', 'wb') as handler:\n",
    "    handler.write(img_data)"
   ]
  },
  {
   "cell_type": "markdown",
   "metadata": {},
   "source": [
    "### Task5\n",
    "#### Secret message"
   ]
  },
  {
   "cell_type": "code",
   "execution_count": 73,
   "metadata": {
    "scrolled": true
   },
   "outputs": [
    {
     "data": {
      "text/plain": [
       "['https://keithgalli.github.io/web-scraping/challenge/file_1.html',\n",
       " 'https://keithgalli.github.io/web-scraping/challenge/file_2.html',\n",
       " 'https://keithgalli.github.io/web-scraping/challenge/file_3.html',\n",
       " 'https://keithgalli.github.io/web-scraping/challenge/file_4.html',\n",
       " 'https://keithgalli.github.io/web-scraping/challenge/file_5.html',\n",
       " 'https://keithgalli.github.io/web-scraping/challenge/file_6.html',\n",
       " 'https://keithgalli.github.io/web-scraping/challenge/file_7.html',\n",
       " 'https://keithgalli.github.io/web-scraping/challenge/file_8.html',\n",
       " 'https://keithgalli.github.io/web-scraping/challenge/file_9.html',\n",
       " 'https://keithgalli.github.io/web-scraping/challenge/file_10.html']"
      ]
     },
     "execution_count": 73,
     "metadata": {},
     "output_type": "execute_result"
    }
   ],
   "source": [
    "files = [ a['href'] for a in webpage.body.select('div.block li a')]\n",
    "files_url = [keith[:-12] + f for f in files]\n",
    "files_url"
   ]
  },
  {
   "cell_type": "code",
   "execution_count": 81,
   "metadata": {},
   "outputs": [
    {
     "name": "stdout",
     "output_type": "stream",
     "text": [
      "Make\n",
      "sure\n",
      "to\n",
      "smash\n",
      "that\n",
      "like\n",
      "button\n",
      "and\n",
      "subscribe\n",
      "!!!\n"
     ]
    }
   ],
   "source": [
    "for f in files_url:\n",
    "    page = requests.get(f)\n",
    "    bs_p = bs(page.content)\n",
    "    print(bs_p.body.find('p', attrs = {'id': 'secret-word'}).string)"
   ]
  },
  {
   "cell_type": "code",
   "execution_count": null,
   "metadata": {},
   "outputs": [],
   "source": []
  }
 ],
 "metadata": {
  "kernelspec": {
   "display_name": "Python 3",
   "language": "python",
   "name": "python3"
  },
  "language_info": {
   "codemirror_mode": {
    "name": "ipython",
    "version": 3
   },
   "file_extension": ".py",
   "mimetype": "text/x-python",
   "name": "python",
   "nbconvert_exporter": "python",
   "pygments_lexer": "ipython3",
   "version": "3.8.5"
  }
 },
 "nbformat": 4,
 "nbformat_minor": 4
}
