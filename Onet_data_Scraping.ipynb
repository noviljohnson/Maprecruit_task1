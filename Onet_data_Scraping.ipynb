{
 "cells": [
  {
   "cell_type": "markdown",
   "metadata": {},
   "source": [
    "## Web Scraping \n",
    "### collecting data from ONET"
   ]
  },
  {
   "cell_type": "code",
   "execution_count": 1,
   "metadata": {},
   "outputs": [],
   "source": [
    "# required libraries\n",
    "import requests\n",
    "from bs4 import BeautifulSoup as bs"
   ]
  },
  {
   "cell_type": "code",
   "execution_count": 2,
   "metadata": {},
   "outputs": [],
   "source": [
    "# loading page\n",
    "r = requests.get('https://www.onetonline.org/find/family?f=15&g=Go')\n",
    "webpage = bs(r.content)\n",
    "\n",
    "#print(webpage)"
   ]
  },
  {
   "cell_type": "code",
   "execution_count": 3,
   "metadata": {},
   "outputs": [
    {
     "data": {
      "text/plain": [
       "'Actuaries'"
      ]
     },
     "execution_count": 3,
     "metadata": {},
     "output_type": "execute_result"
    }
   ],
   "source": [
    "webpage.find('table').find_all('tr')[1].a.text"
   ]
  },
  {
   "cell_type": "code",
   "execution_count": 4,
   "metadata": {
    "collapsed": true
   },
   "outputs": [
    {
     "data": {
      "text/plain": [
       "['Actuaries',\n",
       " 'Bioinformatics Technicians',\n",
       " 'Biostatisticians',\n",
       " 'Blockchain Engineers',\n",
       " 'Business Intelligence Analysts',\n",
       " 'Clinical Data Managers',\n",
       " 'Computer and Information Research Scientists',\n",
       " 'Computer Network Architects',\n",
       " 'Computer Network Support Specialists',\n",
       " 'Computer Occupations, All Other',\n",
       " 'Computer Programmers',\n",
       " 'Computer Systems Analysts',\n",
       " 'Computer Systems Engineers/Architects',\n",
       " 'Computer User Support Specialists',\n",
       " 'Data Scientists',\n",
       " 'Data Warehousing Specialists',\n",
       " 'Database Administrators',\n",
       " 'Database Architects',\n",
       " 'Digital Forensics Analysts',\n",
       " 'Document Management Specialists',\n",
       " 'Geographic Information Systems Technologists and Technicians',\n",
       " 'Health Informatics Specialists',\n",
       " 'Information Security Analysts',\n",
       " 'Information Security Engineers',\n",
       " 'Information Technology Project Managers',\n",
       " 'Mathematical Science Occupations, All Other',\n",
       " 'Mathematicians',\n",
       " 'Network and Computer Systems Administrators',\n",
       " 'Operations Research Analysts',\n",
       " 'Penetration Testers',\n",
       " 'Software Developers',\n",
       " 'Software Quality Assurance Analysts and Testers',\n",
       " 'Statisticians',\n",
       " 'Telecommunications Engineering Specialists',\n",
       " 'Video Game Designers',\n",
       " 'Web Administrators',\n",
       " 'Web and Digital Interface Designers',\n",
       " 'Web Developers']"
      ]
     },
     "execution_count": 4,
     "metadata": {},
     "output_type": "execute_result"
    }
   ],
   "source": [
    "occupation = []\n",
    "for i in webpage.find('table').find_all('tr')[1:]:\n",
    "    occupation.append(i.a.text)\n",
    "#occupation"
   ]
  },
  {
   "cell_type": "code",
   "execution_count": 5,
   "metadata": {},
   "outputs": [
    {
     "data": {
      "text/plain": [
       "'Computer Occupations, All Other'"
      ]
     },
     "execution_count": 5,
     "metadata": {},
     "output_type": "execute_result"
    }
   ],
   "source": [
    "occupation[9]"
   ]
  },
  {
   "cell_type": "code",
   "execution_count": 6,
   "metadata": {},
   "outputs": [],
   "source": [
    "acc = webpage.find('table').find_all('tr')[1].a['href']\n",
    "ra = requests.get(acc)\n",
    "bsa = bs(ra.content)"
   ]
  },
  {
   "cell_type": "code",
   "execution_count": 7,
   "metadata": {},
   "outputs": [
    {
     "name": "stdout",
     "output_type": "stream",
     "text": [
      " IBM SPSS Statistics  \n",
      " Qlik Tech QlikView\n",
      " Compliance testing software\n",
      " Data entry software  \n",
      " Microsoft Visual Basic  \n",
      " IBM Lotus Notes\n",
      " GGY AXIS\n",
      " Microsoft Visio\n",
      " C++  \n",
      " Microsoft Visual FoxPro\n",
      " Microsoft Office\n",
      " Microsoft PowerPoint\n",
      " Microsoft Project\n",
      " Microsoft Excel\n",
      " Microsoft Word\n"
     ]
    }
   ],
   "source": [
    "# tech_skill example\n",
    "for i in bsa.body.select('div.section_TechnologySkills')[1].ul.find_all('li'):\n",
    "    print(i.text.strip().split('—')[-1].split(';')[0])  # first example\n",
    "    #print(i.b.text) # tech_skill"
   ]
  },
  {
   "cell_type": "code",
   "execution_count": 8,
   "metadata": {},
   "outputs": [
    {
     "data": {
      "text/plain": [
       "['Actuarial Analyst',\n",
       " ' Actuarial Associate',\n",
       " ' Actuarial Consultant',\n",
       " ' Actuary',\n",
       " ' Consulting Actuary',\n",
       " ' Health Actuary',\n",
       " ' Pricing Actuary',\n",
       " ' Pricing Analyst',\n",
       " ' Product Development Actuary',\n",
       " ' Retirement Actuary']"
      ]
     },
     "execution_count": 8,
     "metadata": {},
     "output_type": "execute_result"
    }
   ],
   "source": [
    "# sample of reported job titles\n",
    "bsa.body.find_all('p')[1].text.strip().split('\\n')[-1].split(',')"
   ]
  },
  {
   "cell_type": "code",
   "execution_count": 3,
   "metadata": {},
   "outputs": [
    {
     "data": {
      "text/plain": [
       "39"
      ]
     },
     "execution_count": 3,
     "metadata": {},
     "output_type": "execute_result"
    }
   ],
   "source": [
    "job_links = []\n",
    "for i in webpage.find('table').find_all('tr'):\n",
    "    job_links.append(i.a['href'])\n",
    "len(job_links)"
   ]
  },
  {
   "cell_type": "code",
   "execution_count": 4,
   "metadata": {},
   "outputs": [],
   "source": [
    "job_links = job_links[1:]\n",
    "job_links = job_links[:9] + job_links[10:]\n",
    "job_links = job_links[:24] + job_links[25:]"
   ]
  },
  {
   "cell_type": "code",
   "execution_count": 11,
   "metadata": {},
   "outputs": [],
   "source": [
    "occupation.remove('Computer Occupations, All Other')\n",
    "occupation.remove('Mathematical Science Occupations, All Other')"
   ]
  },
  {
   "cell_type": "code",
   "execution_count": 12,
   "metadata": {
    "scrolled": true
   },
   "outputs": [
    {
     "data": {
      "text/plain": [
       "(36, 36)"
      ]
     },
     "execution_count": 12,
     "metadata": {},
     "output_type": "execute_result"
    }
   ],
   "source": [
    "len(job_links), len(occupation)"
   ]
  },
  {
   "cell_type": "raw",
   "metadata": {
    "collapsed": true
   },
   "source": [
    "# jobs with no tech_skills\n",
    "for i,link in enumerate(job_links):\n",
    "    ra = requests.get(link)\n",
    "    bsa = bs(ra.content)\n",
    "    skll = bsa.body.select('div.section_TechnologySkills') \n",
    "    if skll:\n",
    "        print(i,len(skll))\n",
    "    else:\n",
    "        print(i, \"NONE\", occupation[i])"
   ]
  },
  {
   "cell_type": "raw",
   "metadata": {},
   "source": [
    "# retreiving data from job links\n",
    "# making columns for different tables\n",
    "# skills_id  skill_name  job_id  skill_example : Skills\n",
    "# job_id   job_name : relavent_job_list\n",
    "# job_id  job_name  r_job_id  skill_id  : jobs_list\n",
    "Tech_skill_name = []\n",
    "skill_ids = []\n",
    "skill_job_id = []\n",
    "skill_example = []\n",
    "\n",
    "r_job_name = []\n",
    "r_job_id = []\n",
    "\n",
    "skill_id_list = []\n",
    "r_job_id_list = []\n",
    "\n",
    "skill_count = 0\n",
    "r_job_count = 0\n",
    "\n",
    "for id_, link in enumerate(job_links):\n",
    "    ra = requests.get(link)\n",
    "    bsa = bs(ra.content)\n",
    "    skll = bsa.body.select('div.section_TechnologySkills') \n",
    "    s_list = skill_count\n",
    "    if skll:\n",
    "        for i in skll[1].ul.find_all('li'):\n",
    "            skill_example.append(i.text.strip().split('(')[0].split('—')[-1].split(';'))  # first example\n",
    "            Tech_skill_name.append(i.b.text) # tech_skill\n",
    "            skill_job_id.append(id_)\n",
    "            skill_ids.append(skill_count)\n",
    "            skill_count+=1\n",
    "        skill_id_list.append(list(range(s_list,skill_count)))\n",
    "    else:\n",
    "        skill_id_list.append('None')\n",
    "    r_job = bsa.body.find_all('p')[1].text.strip().split('\\n')[-1].split(',')\n",
    "    r_job_name.extend(r_job)\n",
    "    r_job_id_list.append(list(range(r_job_count, r_job_count+len(r_job))))\n",
    "    r_job_id.extend(list(range(r_job_count, r_job_count+len(r_job))))\n",
    "    r_job_count += len(r_job)\n",
    "    "
   ]
  },
  {
   "cell_type": "code",
   "execution_count": 81,
   "metadata": {},
   "outputs": [
    {
     "data": {
      "text/plain": [
       "'Analytical or scientific software — IBM SPSS Statistics  ; SAS  ; The MathWorks MATLAB \\n\\n'"
      ]
     },
     "execution_count": 81,
     "metadata": {},
     "output_type": "execute_result"
    }
   ],
   "source": [
    "bsa.body.select('div.section_TechnologySkills')[1].ul.find_all('li')[0].text#[-2].text.strip().split('(')[0].split('—')[-1].split(';')\n",
    "#bsa.body.select('div.section_TechnologySkills')[1].ul.find_all('li')[0].b."
   ]
  },
  {
   "cell_type": "code",
   "execution_count": 113,
   "metadata": {},
   "outputs": [
    {
     "data": {
      "text/plain": [
       "[[' IBM SPSS Statistics  ',\n",
       "  ' Insightful S-PLUS',\n",
       "  ' SAS  ',\n",
       "  ' Statistical software  '],\n",
       " [' Qlik Tech QlikView'],\n",
       " [' Compliance testing software'],\n",
       " [' Data entry software  ',\n",
       "  ' Microsoft SQL Server  ',\n",
       "  ' Oracle software  ',\n",
       "  ' Structured query language SQL  '],\n",
       " [' Microsoft Visual Basic  ', ' Microsoft Visual Basic for Applications VBA'],\n",
       " [' IBM Lotus Notes'],\n",
       " [' GGY AXIS',\n",
       "  ' Oak Mountain Software AnnuityValue',\n",
       "  ' Pricing software',\n",
       "  ' Towers Perrin MoSes  '],\n",
       " [' Microsoft Visio'],\n",
       " [' C++  ', ' Oracle Java  ', ' Python  ', ' R'],\n",
       " [' Microsoft Visual FoxPro'],\n",
       " [' Microsoft Office'],\n",
       " [' Microsoft PowerPoint'],\n",
       " [' Microsoft Project'],\n",
       " [' Microsoft Excel'],\n",
       " [' Microsoft Word'],\n",
       " [' Avaya Identity Engines'],\n",
       " [' Data visualization software',\n",
       "  ' IBM SPSS Statistics  ',\n",
       "  ' SAS  ',\n",
       "  ' The MathWorks MATLAB  '],\n",
       " ['Customer relationship management CRM software'],\n",
       " [' Microsoft SQL Server'],\n",
       " [' Microsoft Access  ',\n",
       "  ' MySQL  ',\n",
       "  ' Oracle software  ',\n",
       "  ' Structured query language SQL'],\n",
       " [' C', ' Ruby'],\n",
       " [' Microsoft Outlook'],\n",
       " [' Atlassian Bamboo  ', ' Jenkins CI'],\n",
       " [' SAP software'],\n",
       " [' Apache Subversion', ' Git'],\n",
       " [' Microsoft Visio'],\n",
       " [' Web browser software'],\n",
       " [' Voice over internet protocol VoiP system software'],\n",
       " [' ESRI ArcGIS', ' Geographic information system GIS software'],\n",
       " [' C++  ',\n",
       "  ' Oracle Java  ',\n",
       "  ' Practical extraction and reporting language Perl  ',\n",
       "  ' R  '],\n",
       " [' Microsoft Office'],\n",
       " [' Linux  ', ' Microsoft Windows'],\n",
       " [' Microsoft PowerPoint'],\n",
       " [' Microsoft SharePoint'],\n",
       " [' Microsoft Excel'],\n",
       " [' Hypertext markup language HTML'],\n",
       " [' Microsoft Word'],\n",
       " [' IBM SPSS Statistics  ', ' Minitab  ', ' SAS  ', ' The MathWorks MATLAB  '],\n",
       " [' MySQL'],\n",
       " [' Microsoft Access  ',\n",
       "  ' Microsoft SQL Server  ',\n",
       "  ' Oracle software  ',\n",
       "  ' Structured query language SQL  '],\n",
       " ['Data mining software'],\n",
       " [' Software development tools'],\n",
       " [' Extensible markup language XML'],\n",
       " [' SAP'],\n",
       " [' Git'],\n",
       " [' Graphics software'],\n",
       " [' STAT! Systems QD Clinical'],\n",
       " [' C++  ',\n",
       "  ' Oracle Java  ',\n",
       "  ' Practical extraction and reporting language Perl  ',\n",
       "  ' R  '],\n",
       " [' Microsoft Office'],\n",
       " [' Bash  ', ' Linux  ', ' Shell script  ', ' UNIX  '],\n",
       " [' Microsoft PowerPoint'],\n",
       " [' Microsoft Excel'],\n",
       " [' JavaScript  ', ' PHP: Hypertext Preprocessor'],\n",
       " [' Microsoft Word'],\n",
       " [' Citrix'],\n",
       " [' Fund accounting software', ' Tax software'],\n",
       " [' IBM SPSS Statistics  ', ' Minitab  ', ' SAS  ', ' The MathWorks MATLAB  '],\n",
       " [' GitHub  ', ' Oracle WebLogic Server  ', ' Red Hat WildFly'],\n",
       " [' Veritas NetBackup'],\n",
       " [' Apache Spark  ',\n",
       "  ' MicroStrategy  ',\n",
       "  ' Oracle Business Intelligence Enterprise Edition  ',\n",
       "  ' Qlik Tech QlikView  '],\n",
       " [' IBM Domino'],\n",
       " [' PTC Creo Parametric'],\n",
       " [' Atlassian JIRA'],\n",
       " [\" Blackbaud The Raiser's Edge\",\n",
       "  ' Oracle Eloqua',\n",
       "  ' Oracle Siebel Marketing Resource Management',\n",
       "  ' Salesforce software'],\n",
       " [' Amazon DynamoDB  ', ' Apache Hive  ', ' Elasticsearch  ', ' MongoDB  '],\n",
       " [' Information Builders WebFOCUS',\n",
       "  ' Microsoft SQL Server Reporting Services  ',\n",
       "  ' SAP Crystal Reports  ',\n",
       "  ' SiSense Prism  '],\n",
       " [' Airtable',\n",
       "  ' Amazon Elastic Compute Cloud EC2  ',\n",
       "  ' Oracle JDBC  ',\n",
       "  ' Transact-SQL  '],\n",
       " [' Data warehouse software',\n",
       "  ' Google Analytics  ',\n",
       "  ' Informatica Data Explorer',\n",
       "  ' SAP NetWeaver Business Warehouse'],\n",
       " [' Eko', ' Skype'],\n",
       " [' Microsoft Publisher'],\n",
       " [' Apache Ant  ',\n",
       "  ' Apache Kafka  ',\n",
       "  ' Common business oriented language COBOL  ',\n",
       "  ' Go  '],\n",
       " [' Adobe Systems Adobe Acrobat'],\n",
       " [' IBM Notes  ', ' Microsoft Exchange  ', ' Microsoft Outlook'],\n",
       " [' Extensible markup language XML  ',\n",
       "  ' IBM InfoSphere DataStage',\n",
       "  ' IBM WebSphere  ',\n",
       "  ' Microsoft SQL Server Integration Services SSIS  '],\n",
       " [' Microsoft Dynamics GP  ',\n",
       "  ' NetSuite ERP  ',\n",
       "  ' Oracle Hyperion  ',\n",
       "  ' Oracle JD Edwards EnterpriseOne  '],\n",
       " [' IBM Power Systems software', ' Splunk Enterprise'],\n",
       " [' Git'],\n",
       " [' Delphi Technology',\n",
       "  ' IBM Unica Enterprise',\n",
       "  ' Oracle E-Business Suite Financials'],\n",
       " [' Salesforce Visualforce'],\n",
       " [' Adobe Systems Adobe Flash', ' Microsoft Visio'],\n",
       " [' Human resource management software HRMS', ' Oracle Taleo'],\n",
       " [' LexisNexis'],\n",
       " [' ESRI ArcGIS software  ', ' Geographic information system GIS software'],\n",
       " [' Epic Systems  ',\n",
       "  ' Healthcare common procedure coding system HCPCS  ',\n",
       "  ' Medical condition coding software  ',\n",
       "  ' MEDITECH software  '],\n",
       " [' CA Erwin Data Modeler', ' Data modeling software'],\n",
       " [' Nagios  ', ' Wireshark'],\n",
       " [' Virtual private networking VPN software'],\n",
       " [' Advanced business application programming ABAP  ',\n",
       "  ' Apache Groovy  ',\n",
       "  ' jQuery  ',\n",
       "  ' Scala  '],\n",
       " [' Hibernate ORM', ' PostgreSQL'],\n",
       " [' Microsoft Office'],\n",
       " [' Microsoft Windows Server  ',\n",
       "  ' Oracle Solaris  ',\n",
       "  ' Red Hat Enterprise Linux  ',\n",
       "  ' UNIX Shell  '],\n",
       " [' Apache HTTP Server'],\n",
       " [' Google Slides', ' Microsoft PowerPoint'],\n",
       " [' Hewlett Packard LoadRunner'],\n",
       " [' Confluence  ',\n",
       "  ' Microsoft Project  ',\n",
       "  ' Microsoft SharePoint  ',\n",
       "  ' Oracle Primavera Enterprise Project Portfolio Management'],\n",
       " [' Unified modeling language UML'],\n",
       " [' Google AdWords  ', ' Marketo Marketing Automation'],\n",
       " [' Microsoft Excel'],\n",
       " [' McAfee', ' Symantec'],\n",
       " [' Customer information control system CICS'],\n",
       " [' YouTube'],\n",
       " [' Adobe Systems Adobe Dreamweaver', ' Facebook  ', ' Google Sites'],\n",
       " [' Apache Tomcat  ',\n",
       "  ' Django  ',\n",
       "  ' JavaScript Object Notation JSON  ',\n",
       "  ' Microsoft ASP.NET  '],\n",
       " [' Google Docs  ', ' Microsoft Word'],\n",
       " [' Citrix'],\n",
       " [' IBM SPSS Statistics  ',\n",
       "  ' Oracle Remote Data Capture',\n",
       "  ' SAS  ',\n",
       "  ' SAS JMP  '],\n",
       " [' Autocoders', ' Drug coding software'],\n",
       " [' Relational database management software  ', ' Teradata Database'],\n",
       " [' Oracle SQL Loader',\n",
       "  ' SAP BusinessObjects Crystal Reports',\n",
       "  ' SAP Crystal Reports'],\n",
       " [' Clinical trial management software',\n",
       "  ' Microsoft Access  ',\n",
       "  ' Phase Forward Clintrial',\n",
       "  ' Relational database software  '],\n",
       " [' Go  ', ' Microsoft Visual Basic'],\n",
       " [' Extensible markup language XML'],\n",
       " [' Microsoft Visio'],\n",
       " [' Allscripts', ' Epic Systems  ', ' MEDITECH software'],\n",
       " [' C#  ', ' C++  ', ' Oracle Java'],\n",
       " [' Microsoft Office'],\n",
       " [' Microsoft PowerPoint'],\n",
       " [' Microsoft Project'],\n",
       " [' Microsoft Excel'],\n",
       " [' Microsoft Word'],\n",
       " [' IBM SPSS Statistics  ', ' Minitab  ', ' SAS  ', ' The MathWorks MATLAB  '],\n",
       " [' Docker  ', ' GitHub'],\n",
       " [' Apache Spark  ',\n",
       "  ' MicroStrategy  ',\n",
       "  ' Oracle Business Intelligence Enterprise Edition  ',\n",
       "  ' Qlik Tech QlikView  '],\n",
       " [' Clustermatic', ' Parallel systems software'],\n",
       " [' IBM Domino'],\n",
       " [' Greenhills Ada compilers',\n",
       "  ' Low-level virtual machine LLVM compilers',\n",
       "  ' Polaris parallelizing compilers'],\n",
       " [' Computer aided design and drafting CADD software', ' PTC Creo Parametric'],\n",
       " [' IBM Rational Apex', ' Perforce Software Configuration Management System'],\n",
       " [' Amazon DynamoDB  ', ' Apache Solr  ', ' Elasticsearch  ', ' MongoDB  '],\n",
       " [' Amazon Elastic Compute Cloud EC2  ',\n",
       "  ' Amazon Redshift  ',\n",
       "  ' Apache Hive  ',\n",
       "  ' Transact-SQL  '],\n",
       " [' Google Analytics'],\n",
       " [' Apache Kafka  ',\n",
       "  ' Eclipse IDE  ',\n",
       "  ' Integrated development environment IDE software  ',\n",
       "  ' Ruby  '],\n",
       " [' Extensible markup language XML  ', ' IBM InfoSphere DataStage'],\n",
       " [' Microsoft Dynamics  ', ' SAP Business Objects'],\n",
       " [' Splunk Enterprise'],\n",
       " [' Apache Subversion SVN  ', ' Git'],\n",
       " [' Waikato Environment for Knowledge Analysis Weka'],\n",
       " [' Graphics pipelines',\n",
       "  ' Open Graphics Library OpenGL',\n",
       "  ' Three-dimensional 3D graphics software'],\n",
       " [' ESRI ArcGIS software  ', ' Geographic information system GIS software'],\n",
       " [' CA Erwin Data Modeler'],\n",
       " [' C#  ',\n",
       "  ' Practical extraction and reporting language Perl  ',\n",
       "  ' R  ',\n",
       "  ' Scala  '],\n",
       " [' PostgreSQL'],\n",
       " [' Microsoft Office'],\n",
       " [' Bash  ', ' Oracle Solaris  ', ' Shell script  ', ' UNIX Shell  '],\n",
       " [' Apache HTTP Server'],\n",
       " [' Microsoft PowerPoint'],\n",
       " [' Microsoft Project'],\n",
       " [' Unified modeling language UML'],\n",
       " [' Google AdWords'],\n",
       " [' Microsoft Excel'],\n",
       " [' Video editing software'],\n",
       " [' Plug-in file software'],\n",
       " [' Django  ',\n",
       "  ' Extensible stylesheet language transformations XSLT',\n",
       "  ' JavaScript  ',\n",
       "  ' PHP: Hypertext Preprocessor']]"
      ]
     },
     "execution_count": 113,
     "metadata": {},
     "output_type": "execute_result"
    }
   ],
   "source": [
    "#len(Tech_skill_name)\n",
    "#len(skill_ids)\n",
    "#len(skill_job_id)\n",
    "skill_example"
   ]
  },
  {
   "cell_type": "code",
   "execution_count": 15,
   "metadata": {},
   "outputs": [
    {
     "data": {
      "text/plain": [
       "36"
      ]
     },
     "execution_count": 15,
     "metadata": {},
     "output_type": "execute_result"
    }
   ],
   "source": [
    "len(skill_id_list)\n",
    "#len(r_job_id_list)"
   ]
  },
  {
   "cell_type": "code",
   "execution_count": 16,
   "metadata": {},
   "outputs": [
    {
     "data": {
      "text/plain": [
       "246"
      ]
     },
     "execution_count": 16,
     "metadata": {},
     "output_type": "execute_result"
    }
   ],
   "source": [
    "#len(r_job_name)\n",
    "len(r_job_id)"
   ]
  },
  {
   "cell_type": "code",
   "execution_count": 17,
   "metadata": {},
   "outputs": [],
   "source": [
    "import pandas as pd"
   ]
  },
  {
   "cell_type": "code",
   "execution_count": 18,
   "metadata": {},
   "outputs": [],
   "source": [
    "#df_r_job = pd.DataFrame(df_r_job,columns = ['r_job_id', 'r_job_name'])"
   ]
  },
  {
   "cell_type": "code",
   "execution_count": 19,
   "metadata": {},
   "outputs": [
    {
     "data": {
      "text/plain": [
       "36"
      ]
     },
     "execution_count": 19,
     "metadata": {},
     "output_type": "execute_result"
    }
   ],
   "source": [
    "len(occupation)"
   ]
  },
  {
   "cell_type": "code",
   "execution_count": 49,
   "metadata": {},
   "outputs": [],
   "source": [
    "h = '127.0.0.1'\n",
    "u = 'root'\n",
    "p = 'Johnson@999'\n",
    "d = 'job_descriptions'"
   ]
  },
  {
   "cell_type": "raw",
   "metadata": {},
   "source": [
    "db = mysql.connector.connect(host = h,\n",
    "                            user = u,\n",
    "                            passwd = p,\n",
    "                            database = d)\n",
    "cursor = db.cursor()\n",
    "cursor.executemany(\"insert into new_1 values(%s, %s)\", x)\n",
    "db.commit()"
   ]
  },
  {
   "cell_type": "raw",
   "metadata": {},
   "source": [
    "x = []\n",
    "for i, val in enumerate(r_job_name):\n",
    "    x.append((i, val))\n",
    "x"
   ]
  },
  {
   "cell_type": "code",
   "execution_count": 83,
   "metadata": {},
   "outputs": [
    {
     "data": {
      "text/plain": [
       "['Analytical or scientific software — IBM SPSS Statistics  ; Insightful S-PLUS; SAS  ; Statistical software  (see all 5 examples)',\n",
       " 'Business intelligence and data analysis software — Qlik Tech QlikView',\n",
       " 'Compliance software — Compliance testing software',\n",
       " 'Data base user interface and query software — Data entry software  ; Microsoft SQL Server  ; Oracle software  ; Structured query language SQL  (see all 7 examples)']"
      ]
     },
     "execution_count": 83,
     "metadata": {},
     "output_type": "execute_result"
    }
   ],
   "source": [
    "skill_with_example = []\n",
    "skill_nm = []\n",
    "for id_, link in enumerate(job_links):\n",
    "    ra = requests.get(link)\n",
    "    bsa = bs(ra.content)\n",
    "    skll = bsa.body.select('div.section_TechnologySkills') \n",
    "    #s_list = skill_count\n",
    "    if skll:\n",
    "        for i in skll[1].ul.find_all('li'):\n",
    "            skill_with_example.append(i.text.strip())\n",
    "                    \n",
    "skill_with_example[:4]"
   ]
  },
  {
   "cell_type": "code",
   "execution_count": 85,
   "metadata": {},
   "outputs": [
    {
     "name": "stdout",
     "output_type": "stream",
     "text": [
      "Collecting gensim\n",
      "  Downloading gensim-4.0.1-cp38-cp38-win_amd64.whl (23.9 MB)\n",
      "Requirement already satisfied: scipy>=0.18.1 in c:\\programdata\\anaconda3\\lib\\site-packages (from gensim) (1.5.2)\n",
      "Requirement already satisfied: Cython==0.29.21 in c:\\programdata\\anaconda3\\lib\\site-packages (from gensim) (0.29.21)\n",
      "Requirement already satisfied: numpy>=1.11.3 in c:\\programdata\\anaconda3\\lib\\site-packages (from gensim) (1.19.2)\n",
      "Collecting smart-open>=1.8.1\n",
      "  Downloading smart_open-5.1.0-py3-none-any.whl (57 kB)\n",
      "Installing collected packages: smart-open, gensim\n",
      "Successfully installed gensim-4.0.1 smart-open-5.1.0\n"
     ]
    }
   ],
   "source": [
    "!pip install gensim"
   ]
  },
  {
   "cell_type": "code",
   "execution_count": 86,
   "metadata": {
    "scrolled": false
   },
   "outputs": [
    {
     "name": "stderr",
     "output_type": "stream",
     "text": [
      "C:\\ProgramData\\Anaconda3\\lib\\site-packages\\gensim\\similarities\\__init__.py:15: UserWarning: The gensim.similarities.levenshtein submodule is disabled, because the optional Levenshtein package <https://pypi.org/project/python-Levenshtein/> is unavailable. Install Levenhstein (e.g. `pip install python-Levenshtein`) to suppress this warning.\n",
      "  warnings.warn(msg)\n"
     ]
    }
   ],
   "source": [
    "import gensim\n",
    "import pandas as pd"
   ]
  },
  {
   "cell_type": "code",
   "execution_count": 91,
   "metadata": {},
   "outputs": [],
   "source": [
    "df = pd.DataFrame(columns = ['skills'],data = skill_with_example)"
   ]
  },
  {
   "cell_type": "code",
   "execution_count": 92,
   "metadata": {},
   "outputs": [
    {
     "data": {
      "text/html": [
       "<div>\n",
       "<style scoped>\n",
       "    .dataframe tbody tr th:only-of-type {\n",
       "        vertical-align: middle;\n",
       "    }\n",
       "\n",
       "    .dataframe tbody tr th {\n",
       "        vertical-align: top;\n",
       "    }\n",
       "\n",
       "    .dataframe thead th {\n",
       "        text-align: right;\n",
       "    }\n",
       "</style>\n",
       "<table border=\"1\" class=\"dataframe\">\n",
       "  <thead>\n",
       "    <tr style=\"text-align: right;\">\n",
       "      <th></th>\n",
       "      <th>skills</th>\n",
       "    </tr>\n",
       "  </thead>\n",
       "  <tbody>\n",
       "    <tr>\n",
       "      <th>0</th>\n",
       "      <td>Analytical or scientific software — IBM SPSS S...</td>\n",
       "    </tr>\n",
       "    <tr>\n",
       "      <th>1</th>\n",
       "      <td>Business intelligence and data analysis softwa...</td>\n",
       "    </tr>\n",
       "    <tr>\n",
       "      <th>2</th>\n",
       "      <td>Compliance software — Compliance testing software</td>\n",
       "    </tr>\n",
       "    <tr>\n",
       "      <th>3</th>\n",
       "      <td>Data base user interface and query software — ...</td>\n",
       "    </tr>\n",
       "    <tr>\n",
       "      <th>4</th>\n",
       "      <td>Development environment software — Microsoft V...</td>\n",
       "    </tr>\n",
       "  </tbody>\n",
       "</table>\n",
       "</div>"
      ],
      "text/plain": [
       "                                              skills\n",
       "0  Analytical or scientific software — IBM SPSS S...\n",
       "1  Business intelligence and data analysis softwa...\n",
       "2  Compliance software — Compliance testing software\n",
       "3  Data base user interface and query software — ...\n",
       "4  Development environment software — Microsoft V..."
      ]
     },
     "execution_count": 92,
     "metadata": {},
     "output_type": "execute_result"
    }
   ],
   "source": [
    "df.head()"
   ]
  },
  {
   "cell_type": "code",
   "execution_count": 95,
   "metadata": {},
   "outputs": [
    {
     "data": {
      "text/plain": [
       "0       [analytical, or, scientific, software, ibm, sp...\n",
       "1       [business, intelligence, and, data, analysis, ...\n",
       "2       [compliance, software, compliance, testing, so...\n",
       "3       [data, base, user, interface, and, query, soft...\n",
       "4       [development, environment, software, microsoft...\n",
       "                              ...                        \n",
       "1283    [video, conferencing, software, cisco, systems...\n",
       "1284    [video, creation, and, editing, software, adob...\n",
       "1285    [web, page, creation, and, editing, software, ...\n",
       "1286    [web, platform, development, software, backbon...\n",
       "1287    [word, processing, software, post, it, app, ev...\n",
       "Name: skills, Length: 1288, dtype: object"
      ]
     },
     "execution_count": 95,
     "metadata": {},
     "output_type": "execute_result"
    }
   ],
   "source": [
    "df_pro = df.skills.apply(gensim.utils.simple_preprocess)\n",
    "df_pro"
   ]
  },
  {
   "cell_type": "code",
   "execution_count": 105,
   "metadata": {},
   "outputs": [],
   "source": [
    "model = gensim.models.Word2Vec(window = 10,\n",
    "                              min_count = 2,\n",
    "                              workers = 2)"
   ]
  },
  {
   "cell_type": "code",
   "execution_count": 106,
   "metadata": {},
   "outputs": [],
   "source": [
    "model.build_vocab(df_pro, progress_per = 1000)"
   ]
  },
  {
   "cell_type": "code",
   "execution_count": 107,
   "metadata": {},
   "outputs": [
    {
     "data": {
      "text/plain": [
       "(41983, 67670)"
      ]
     },
     "execution_count": 107,
     "metadata": {},
     "output_type": "execute_result"
    }
   ],
   "source": [
    "model.train(df_pro, total_examples = model.corpus_count, epochs = model.epochs)"
   ]
  },
  {
   "cell_type": "code",
   "execution_count": 109,
   "metadata": {},
   "outputs": [
    {
     "data": {
      "text/plain": [
       "[('software', 0.9996118545532227),\n",
       " ('and', 0.9996110796928406),\n",
       " ('see', 0.9995555281639099),\n",
       " ('all', 0.999525785446167),\n",
       " ('oracle', 0.9995124340057373),\n",
       " ('examples', 0.9994722008705139),\n",
       " ('management', 0.9994465708732605),\n",
       " ('cloud', 0.9994415640830994),\n",
       " ('computer', 0.9994219541549683),\n",
       " ('or', 0.9994217157363892)]"
      ]
     },
     "execution_count": 109,
     "metadata": {},
     "output_type": "execute_result"
    }
   ],
   "source": [
    "model.wv.most_similar('data')"
   ]
  },
  {
   "cell_type": "code",
   "execution_count": 116,
   "metadata": {
    "scrolled": true
   },
   "outputs": [
    {
     "data": {
      "text/plain": [
       "'IBM SPSS Statistics'"
      ]
     },
     "execution_count": 116,
     "metadata": {},
     "output_type": "execute_result"
    }
   ],
   "source": [
    "skill_example[0][0].strip()"
   ]
  },
  {
   "cell_type": "code",
   "execution_count": null,
   "metadata": {},
   "outputs": [],
   "source": []
  }
 ],
 "metadata": {
  "kernelspec": {
   "display_name": "Python 3",
   "language": "python",
   "name": "python3"
  },
  "language_info": {
   "codemirror_mode": {
    "name": "ipython",
    "version": 3
   },
   "file_extension": ".py",
   "mimetype": "text/x-python",
   "name": "python",
   "nbconvert_exporter": "python",
   "pygments_lexer": "ipython3",
   "version": "3.8.5"
  }
 },
 "nbformat": 4,
 "nbformat_minor": 4
}
